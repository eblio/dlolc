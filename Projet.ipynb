{
  "nbformat": 4,
  "nbformat_minor": 0,
  "metadata": {
    "language_info": {
      "codemirror_mode": {
        "name": "ipython",
        "version": 3
      },
      "file_extension": ".py",
      "mimetype": "text/x-python",
      "name": "python",
      "nbconvert_exporter": "python",
      "pygments_lexer": "ipython3",
      "version": "3.8.5"
    },
    "orig_nbformat": 2,
    "kernelspec": {
      "name": "python3",
      "display_name": "Python 3",
      "language": "python"
    },
    "colab": {
      "name": "Projet.ipynb",
      "provenance": [],
      "collapsed_sections": [],
      "include_colab_link": true
    },
    "accelerator": "GPU"
  },
  "cells": [
    {
      "cell_type": "markdown",
      "metadata": {
        "id": "view-in-github",
        "colab_type": "text"
      },
      "source": [
        "<a href=\"https://colab.research.google.com/github/eblio/dlolc/blob/main/Projet.ipynb\" target=\"_parent\"><img src=\"https://colab.research.google.com/assets/colab-badge.svg\" alt=\"Open In Colab\"/></a>"
      ]
    },
    {
      "cell_type": "markdown",
      "metadata": {
        "id": "4BeRdHOQKNJK"
      },
      "source": [
        "#Premier réseau de neurones \n",
        "\n",
        "## Premier réseau de neurones convolutifs qui permets de distinguer chacuns des dix champions sur une image. "
      ]
    },
    {
      "cell_type": "code",
      "metadata": {
        "id": "ShH_J4h_1N28"
      },
      "source": [
        "import os\n",
        "import shutil\n",
        "\n",
        "\n",
        "import matplotlib.pyplot as plt\n",
        "import numpy as np\n",
        "import PIL\n",
        "from PIL import Image\n",
        "import os, sys\n",
        "from scipy.io import loadmat\n",
        "\n",
        "from keras.models import Sequential\n",
        "from keras.layers import Dense, Dropout, Flatten, BatchNormalization, Activation\n",
        "from keras.layers.convolutional import Conv2D, MaxPooling2D\n",
        "from keras.constraints import maxnorm\n",
        "from keras.utils import np_utils"
      ],
      "execution_count": 1,
      "outputs": []
    },
    {
      "cell_type": "code",
      "metadata": {
        "colab": {
          "base_uri": "https://localhost:8080/"
        },
        "id": "8NRtIyoH1hJg",
        "outputId": "ff35541a-9314-4fb9-f737-472e400a5db7"
      },
      "source": [
        "!git clone https://github.com/eblio/dlolc.git\n",
        "!git config --global user.email \"alexauragan@gmail.com\"\n",
        "!git config --global user.name \"Alexandre D\""
      ],
      "execution_count": 2,
      "outputs": [
        {
          "output_type": "stream",
          "text": [
            "Cloning into 'dlolc'...\n",
            "remote: Enumerating objects: 21579, done.\u001b[K\n",
            "remote: Counting objects: 100% (23/23), done.\u001b[K\n",
            "remote: Compressing objects: 100% (16/16), done.\u001b[K\n",
            "remote: Total 21579 (delta 5), reused 22 (delta 5), pack-reused 21556\u001b[K\n",
            "Receiving objects: 100% (21579/21579), 3.96 GiB | 25.64 MiB/s, done.\n",
            "Resolving deltas: 100% (1930/1930), done.\n",
            "Checking out files: 100% (10707/10707), done.\n"
          ],
          "name": "stdout"
        }
      ]
    },
    {
      "cell_type": "code",
      "metadata": {
        "id": "NgWf8Uqt1N2_"
      },
      "source": [
        "path = \"./dlolc/data/\"\n",
        "labels = [\"Chogath\", \"Ezreal\", \"Lucian\", \"Malzahar\", \"Morgana\", \"Poppy\", \"Reksai\", \"Senna\", \"Syndra\", \"Teemo\"]\n",
        "num_classes = len(labels)\n",
        "taile_image = 128\n",
        "\n",
        "#x_train, y_train = load_data(path, labels, dataset='train', image_size=600)\n",
        "#print(x_train.shape, y_train.shape)\n",
        "\n",
        "#x_val, y_val = load_data(path, labels, dataset='validation', image_size=600)\n",
        "#print(x_val.shape, y_val.shape)\n",
        "\n",
        "#x_test, y_test = load_data(path, labels, dataset='test', image_size=600)\n",
        "#print(x_test.shape, y_test.shape)\n",
        "\n",
        "#class_num = y_test.shape[1]\n",
        "\n",
        "#plt.figure(figsize=(12, 12))\n",
        "#shuffle_indices = np.random.permutation(9)\n",
        "#for i in range(0, 9):\n",
        "#    plt.subplot(3, 3, i+1)\n",
        "#    image = x_train[shuffle_indices[i]]\n",
        "#    plt.title(labels[int(y_train[shuffle_indices[i]])])\n",
        "#    plt.imshow(image/255)\n",
        "\n",
        "#plt.tight_layout()\n",
        "#plt.show()"
      ],
      "execution_count": 3,
      "outputs": []
    },
    {
      "cell_type": "code",
      "metadata": {
        "colab": {
          "base_uri": "https://localhost:8080/"
        },
        "id": "0cIaUa4W1N3A",
        "outputId": "4ecd13fe-5ae8-4c3e-bb6e-bed2530f91d8"
      },
      "source": [
        "from keras.preprocessing.image import ImageDataGenerator\n",
        "datagen = ImageDataGenerator()\n",
        "\n",
        "# load and iterate training dataset\n",
        "train_it = datagen.flow_from_directory('./dlolc/data/train/', class_mode='categorical', batch_size=64, target_size= (128,128))\n",
        "# load and iterate validation dataset\n",
        "val_it = datagen.flow_from_directory('./dlolc/data/validation/', class_mode='categorical', batch_size=64, target_size= (128,128))\n",
        "# load and iterate test dataset\n",
        "test_it = datagen.flow_from_directory('./dlolc/data/test/', class_mode='categorical', batch_size=64, target_size= (128,128))\n",
        "x, y = train_it.next()\n",
        "print(x.shape)"
      ],
      "execution_count": 4,
      "outputs": [
        {
          "output_type": "stream",
          "text": [
            "Found 6408 images belonging to 10 classes.\n",
            "Found 2140 images belonging to 10 classes.\n",
            "Found 2142 images belonging to 10 classes.\n",
            "(64, 128, 128, 3)\n"
          ],
          "name": "stdout"
        }
      ]
    },
    {
      "cell_type": "code",
      "metadata": {
        "colab": {
          "base_uri": "https://localhost:8080/"
        },
        "id": "U1prXfdi1N3A",
        "outputId": "cc3f0896-27c7-422e-f7c1-9559d7defd97"
      },
      "source": [
        "model = Sequential()\n",
        "\n",
        "model.add(Conv2D(32, (3, 3), input_shape=(taile_image,taile_image,3), padding='same'))\n",
        "model.add(Activation('relu'))\n",
        "model.add(Dropout(0.2))\n",
        "model.add(BatchNormalization())\n",
        "\n",
        "model.add(Conv2D(64, (3, 3), padding='same'))\n",
        "model.add(Activation('relu'))\n",
        "model.add(MaxPooling2D(pool_size=(2, 2)))\n",
        "model.add(Dropout(0.2))\n",
        "model.add(BatchNormalization())\n",
        "\n",
        "model.add(Conv2D(64, (3, 3), padding='same'))\n",
        "model.add(Activation('relu'))\n",
        "model.add(MaxPooling2D(pool_size=(2, 2)))\n",
        "model.add(Dropout(0.2))\n",
        "model.add(BatchNormalization())\n",
        "\n",
        "model.add(Conv2D(128, (3, 3), padding='same'))\n",
        "model.add(Activation('relu'))\n",
        "model.add(MaxPooling2D(pool_size=(2, 2)))\n",
        "model.add(Dropout(0.2))\n",
        "model.add(BatchNormalization())\n",
        "\n",
        "model.add(Conv2D(256, (3, 3), padding='same'))\n",
        "model.add(Activation('relu'))\n",
        "model.add(MaxPooling2D(pool_size=(2, 2)))\n",
        "model.add(Dropout(0.2))\n",
        "model.add(BatchNormalization())\n",
        "\n",
        "model.add(Flatten())\n",
        "model.add(Dropout(0.2))\n",
        "\n",
        "model.add(Dense(256, kernel_constraint=maxnorm(3)))\n",
        "model.add(Activation('relu'))\n",
        "model.add(Dropout(0.2))\n",
        "model.add(BatchNormalization())\n",
        "model.add(Dense(128, kernel_constraint=maxnorm(3)))\n",
        "model.add(Activation('relu'))\n",
        "model.add(Dropout(0.2))\n",
        "model.add(BatchNormalization())\n",
        "model.add(Dense(num_classes))\n",
        "model.add(Activation('softmax'))\n",
        "\n",
        "\n",
        "\n",
        "optimizer = 'adam'\n",
        "\n",
        "model.compile(loss='categorical_crossentropy', optimizer=optimizer, metrics = ['accuracy'])\n",
        "model.save(\"./dlolc/keras models/premier_model\")\n",
        "print(model.summary())"
      ],
      "execution_count": 5,
      "outputs": [
        {
          "output_type": "stream",
          "text": [
            "INFO:tensorflow:Assets written to: ./dlolc/keras models/premier_model/assets\n",
            "Model: \"sequential\"\n",
            "_________________________________________________________________\n",
            "Layer (type)                 Output Shape              Param #   \n",
            "=================================================================\n",
            "conv2d (Conv2D)              (None, 128, 128, 32)      896       \n",
            "_________________________________________________________________\n",
            "activation (Activation)      (None, 128, 128, 32)      0         \n",
            "_________________________________________________________________\n",
            "dropout (Dropout)            (None, 128, 128, 32)      0         \n",
            "_________________________________________________________________\n",
            "batch_normalization (BatchNo (None, 128, 128, 32)      128       \n",
            "_________________________________________________________________\n",
            "conv2d_1 (Conv2D)            (None, 128, 128, 64)      18496     \n",
            "_________________________________________________________________\n",
            "activation_1 (Activation)    (None, 128, 128, 64)      0         \n",
            "_________________________________________________________________\n",
            "max_pooling2d (MaxPooling2D) (None, 64, 64, 64)        0         \n",
            "_________________________________________________________________\n",
            "dropout_1 (Dropout)          (None, 64, 64, 64)        0         \n",
            "_________________________________________________________________\n",
            "batch_normalization_1 (Batch (None, 64, 64, 64)        256       \n",
            "_________________________________________________________________\n",
            "conv2d_2 (Conv2D)            (None, 64, 64, 64)        36928     \n",
            "_________________________________________________________________\n",
            "activation_2 (Activation)    (None, 64, 64, 64)        0         \n",
            "_________________________________________________________________\n",
            "max_pooling2d_1 (MaxPooling2 (None, 32, 32, 64)        0         \n",
            "_________________________________________________________________\n",
            "dropout_2 (Dropout)          (None, 32, 32, 64)        0         \n",
            "_________________________________________________________________\n",
            "batch_normalization_2 (Batch (None, 32, 32, 64)        256       \n",
            "_________________________________________________________________\n",
            "conv2d_3 (Conv2D)            (None, 32, 32, 128)       73856     \n",
            "_________________________________________________________________\n",
            "activation_3 (Activation)    (None, 32, 32, 128)       0         \n",
            "_________________________________________________________________\n",
            "max_pooling2d_2 (MaxPooling2 (None, 16, 16, 128)       0         \n",
            "_________________________________________________________________\n",
            "dropout_3 (Dropout)          (None, 16, 16, 128)       0         \n",
            "_________________________________________________________________\n",
            "batch_normalization_3 (Batch (None, 16, 16, 128)       512       \n",
            "_________________________________________________________________\n",
            "conv2d_4 (Conv2D)            (None, 16, 16, 256)       295168    \n",
            "_________________________________________________________________\n",
            "activation_4 (Activation)    (None, 16, 16, 256)       0         \n",
            "_________________________________________________________________\n",
            "max_pooling2d_3 (MaxPooling2 (None, 8, 8, 256)         0         \n",
            "_________________________________________________________________\n",
            "dropout_4 (Dropout)          (None, 8, 8, 256)         0         \n",
            "_________________________________________________________________\n",
            "batch_normalization_4 (Batch (None, 8, 8, 256)         1024      \n",
            "_________________________________________________________________\n",
            "flatten (Flatten)            (None, 16384)             0         \n",
            "_________________________________________________________________\n",
            "dropout_5 (Dropout)          (None, 16384)             0         \n",
            "_________________________________________________________________\n",
            "dense (Dense)                (None, 256)               4194560   \n",
            "_________________________________________________________________\n",
            "activation_5 (Activation)    (None, 256)               0         \n",
            "_________________________________________________________________\n",
            "dropout_6 (Dropout)          (None, 256)               0         \n",
            "_________________________________________________________________\n",
            "batch_normalization_5 (Batch (None, 256)               1024      \n",
            "_________________________________________________________________\n",
            "dense_1 (Dense)              (None, 128)               32896     \n",
            "_________________________________________________________________\n",
            "activation_6 (Activation)    (None, 128)               0         \n",
            "_________________________________________________________________\n",
            "dropout_7 (Dropout)          (None, 128)               0         \n",
            "_________________________________________________________________\n",
            "batch_normalization_6 (Batch (None, 128)               512       \n",
            "_________________________________________________________________\n",
            "dense_2 (Dense)              (None, 10)                1290      \n",
            "_________________________________________________________________\n",
            "activation_7 (Activation)    (None, 10)                0         \n",
            "=================================================================\n",
            "Total params: 4,657,802\n",
            "Trainable params: 4,655,946\n",
            "Non-trainable params: 1,856\n",
            "_________________________________________________________________\n",
            "None\n"
          ],
          "name": "stdout"
        }
      ]
    },
    {
      "cell_type": "code",
      "metadata": {
        "colab": {
          "base_uri": "https://localhost:8080/"
        },
        "id": "GoKUf__31N3A",
        "outputId": "7ca4a9c7-e829-4a2a-933c-774df2e97ddf"
      },
      "source": [
        "step_size_train = train_it.n//train_it.batch_size\n",
        "step_size_valid = val_it.n//val_it.batch_size\n",
        "\n",
        "history  = model.fit(train_it,\n",
        "          epochs = 15,\n",
        "          verbose = 1,\n",
        "          batch_size = 64,\n",
        "          validation_data = val_it)\n",
        "model.save(\"./dlolc/keras models/premier_model_entrainé\")"
      ],
      "execution_count": 6,
      "outputs": [
        {
          "output_type": "stream",
          "text": [
            "Epoch 1/15\n",
            "101/101 [==============================] - 49s 130ms/step - loss: 1.4854 - accuracy: 0.5249 - val_loss: 0.4932 - val_accuracy: 0.8435\n",
            "Epoch 2/15\n",
            "101/101 [==============================] - 12s 115ms/step - loss: 0.3527 - accuracy: 0.8917 - val_loss: 0.2975 - val_accuracy: 0.8953\n",
            "Epoch 3/15\n",
            "101/101 [==============================] - 12s 116ms/step - loss: 0.2043 - accuracy: 0.9400 - val_loss: 1.2838 - val_accuracy: 0.6621\n",
            "Epoch 4/15\n",
            "101/101 [==============================] - 12s 117ms/step - loss: 0.2381 - accuracy: 0.9289 - val_loss: 0.1647 - val_accuracy: 0.9453\n",
            "Epoch 5/15\n",
            "101/101 [==============================] - 12s 119ms/step - loss: 0.1169 - accuracy: 0.9626 - val_loss: 0.1439 - val_accuracy: 0.9537\n",
            "Epoch 6/15\n",
            "101/101 [==============================] - 12s 119ms/step - loss: 0.0756 - accuracy: 0.9782 - val_loss: 0.0922 - val_accuracy: 0.9692\n",
            "Epoch 7/15\n",
            "101/101 [==============================] - 12s 121ms/step - loss: 0.0860 - accuracy: 0.9761 - val_loss: 0.0920 - val_accuracy: 0.9743\n",
            "Epoch 8/15\n",
            "101/101 [==============================] - 12s 122ms/step - loss: 0.0590 - accuracy: 0.9842 - val_loss: 0.1577 - val_accuracy: 0.9523\n",
            "Epoch 9/15\n",
            "101/101 [==============================] - 12s 121ms/step - loss: 0.0655 - accuracy: 0.9813 - val_loss: 0.1948 - val_accuracy: 0.9402\n",
            "Epoch 10/15\n",
            "101/101 [==============================] - 12s 120ms/step - loss: 0.0489 - accuracy: 0.9875 - val_loss: 0.0920 - val_accuracy: 0.9710\n",
            "Epoch 11/15\n",
            "101/101 [==============================] - 12s 120ms/step - loss: 0.0322 - accuracy: 0.9913 - val_loss: 0.1991 - val_accuracy: 0.9486\n",
            "Epoch 12/15\n",
            "101/101 [==============================] - 12s 120ms/step - loss: 0.0450 - accuracy: 0.9873 - val_loss: 0.0875 - val_accuracy: 0.9734\n",
            "Epoch 13/15\n",
            "101/101 [==============================] - 12s 120ms/step - loss: 0.0352 - accuracy: 0.9880 - val_loss: 0.0785 - val_accuracy: 0.9752\n",
            "Epoch 14/15\n",
            "101/101 [==============================] - 12s 121ms/step - loss: 0.0365 - accuracy: 0.9887 - val_loss: 0.0947 - val_accuracy: 0.9696\n",
            "Epoch 15/15\n",
            "101/101 [==============================] - 12s 121ms/step - loss: 0.0471 - accuracy: 0.9851 - val_loss: 0.0896 - val_accuracy: 0.9720\n",
            "INFO:tensorflow:Assets written to: ./dlolc/keras models/premier_model_entrainé/assets\n"
          ],
          "name": "stdout"
        }
      ]
    },
    {
      "cell_type": "code",
      "metadata": {
        "colab": {
          "base_uri": "https://localhost:8080/"
        },
        "id": "r0Y-K7za1N3C",
        "outputId": "3e00cc17-a9a2-4f55-f751-f4b5d593d002"
      },
      "source": [
        "loss,acc = model.evaluate(test_it)\n",
        "print(\"Accuracy : \"+ str(acc*100) +\"%\")"
      ],
      "execution_count": 7,
      "outputs": [
        {
          "output_type": "stream",
          "text": [
            "34/34 [==============================] - 2s 49ms/step - loss: 0.0976 - accuracy: 0.9734\n",
            "Accuracy : 97.33893275260925%\n"
          ],
          "name": "stdout"
        }
      ]
    },
    {
      "cell_type": "code",
      "metadata": {
        "id": "HZSQzQ4OflS-"
      },
      "source": [
        ""
      ],
      "execution_count": 7,
      "outputs": []
    },
    {
      "cell_type": "code",
      "metadata": {
        "colab": {
          "base_uri": "https://localhost:8080/",
          "height": 590
        },
        "id": "KCi5_zp5eEaS",
        "outputId": "42df36e8-d3e8-4576-915e-cfa608a0e4f8"
      },
      "source": [
        "import matplotlib.pyplot as plt\n",
        "\n",
        "print(history.history.keys())\n",
        "# summarize history for accuracy\n",
        "plt.plot(history.history['accuracy'])\n",
        "plt.plot(history.history['val_accuracy'])\n",
        "plt.title('model accuracy')\n",
        "plt.ylabel('accuracy')\n",
        "plt.xlabel('epoch')\n",
        "plt.legend(['train', 'test'], loc='upper left')\n",
        "plt.show()\n",
        "# summarize history for loss\n",
        "plt.plot(history.history['loss'])\n",
        "plt.plot(history.history['val_loss'])\n",
        "plt.title('model loss')\n",
        "plt.ylabel('loss')\n",
        "plt.xlabel('epoch')\n",
        "plt.legend(['train', 'test'], loc='upper left')\n",
        "plt.show()"
      ],
      "execution_count": 8,
      "outputs": [
        {
          "output_type": "stream",
          "text": [
            "dict_keys(['loss', 'accuracy', 'val_loss', 'val_accuracy'])\n"
          ],
          "name": "stdout"
        },
        {
          "output_type": "display_data",
          "data": {
            "image/png": "[encoded data removed]",
            "text/plain": [
              "<Figure size 432x288 with 1 Axes>"
            ]
          },
          "metadata": {
            "tags": [],
            "needs_background": "light"
          }
        },
        {
          "output_type": "display_data",
          "data": {
            "image/png": "[encoded data removed]",
            "text/plain": [
              "<Figure size 432x288 with 1 Axes>"
            ]
          },
          "metadata": {
            "tags": [],
            "needs_background": "light"
          }
        }
      ]
    },
    {
      "cell_type": "code",
      "metadata": {
        "colab": {
          "base_uri": "https://localhost:8080/",
          "height": 238
        },
        "id": "WuCTl2jfp1TT",
        "outputId": "d07eaf44-94ea-447f-bdf0-0f2f7446db9c"
      },
      "source": [
        "!zip -r /content/file.zip /content/dlolc/keras\\ models\n",
        "from google.colab import files\n",
        "files.download(\"/content/file.zip\")"
      ],
      "execution_count": 9,
      "outputs": [
        {
          "output_type": "stream",
          "text": [
            "  adding: content/dlolc/keras models/ (stored 0%)\n",
            "  adding: content/dlolc/keras models/premier_model/ (stored 0%)\n",
            "  adding: content/dlolc/keras models/premier_model/assets/ (stored 0%)\n",
            "  adding: content/dlolc/keras models/premier_model/variables/ (stored 0%)\n",
            "  adding: content/dlolc/keras models/premier_model/variables/variables.data-00000-of-00001 (deflated 9%)\n",
            "  adding: content/dlolc/keras models/premier_model/variables/variables.index (deflated 73%)\n",
            "  adding: content/dlolc/keras models/premier_model/saved_model.pb (deflated 90%)\n",
            "  adding: content/dlolc/keras models/premier_model_entrainé/ (stored 0%)\n",
            "  adding: content/dlolc/keras models/premier_model_entrainé/assets/ (stored 0%)\n",
            "  adding: content/dlolc/keras models/premier_model_entrainé/variables/ (stored 0%)\n",
            "  adding: content/dlolc/keras models/premier_model_entrainé/variables/variables.data-00000-of-00001 (deflated 8%)\n",
            "  adding: content/dlolc/keras models/premier_model_entrainé/variables/variables.index (deflated 74%)\n",
            "  adding: content/dlolc/keras models/premier_model_entrainé/saved_model.pb (deflated 90%)\n"
          ],
          "name": "stdout"
        },
        {
          "output_type": "display_data",
          "data": {
            "application/javascript": [
              "\n",
              "    async function download(id, filename, size) {\n",
              "      if (!google.colab.kernel.accessAllowed) {\n",
              "        return;\n",
              "      }\n",
              "      const div = document.createElement('div');\n",
              "      const label = document.createElement('label');\n",
              "      label.textContent = `Downloading \"${filename}\": `;\n",
              "      div.appendChild(label);\n",
              "      const progress = document.createElement('progress');\n",
              "      progress.max = size;\n",
              "      div.appendChild(progress);\n",
              "      document.body.appendChild(div);\n",
              "\n",
              "      const buffers = [];\n",
              "      let downloaded = 0;\n",
              "\n",
              "      const channel = await google.colab.kernel.comms.open(id);\n",
              "      // Send a message to notify the kernel that we're ready.\n",
              "      channel.send({})\n",
              "\n",
              "      for await (const message of channel.messages) {\n",
              "        // Send a message to notify the kernel that we're ready.\n",
              "        channel.send({})\n",
              "        if (message.buffers) {\n",
              "          for (const buffer of message.buffers) {\n",
              "            buffers.push(buffer);\n",
              "            downloaded += buffer.byteLength;\n",
              "            progress.value = downloaded;\n",
              "          }\n",
              "        }\n",
              "      }\n",
              "      const blob = new Blob(buffers, {type: 'application/binary'});\n",
              "      const a = document.createElement('a');\n",
              "      a.href = window.URL.createObjectURL(blob);\n",
              "      a.download = filename;\n",
              "      div.appendChild(a);\n",
              "      a.click();\n",
              "      div.remove();\n",
              "    }\n",
              "  "
            ],
            "text/plain": [
              "<IPython.core.display.Javascript object>"
            ]
          },
          "metadata": {
            "tags": []
          }
        },
        {
          "output_type": "display_data",
          "data": {
            "application/javascript": [
              "download(\"download_b6f25378-d738-4d78-9557-b9d2cd5b0447\", \"file.zip\", 68316115)"
            ],
            "text/plain": [
              "<IPython.core.display.Javascript object>"
            ]
          },
          "metadata": {
            "tags": []
          }
        }
      ]
    }
  ]
}