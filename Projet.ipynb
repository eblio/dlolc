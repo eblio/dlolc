{
  "nbformat": 4,
  "nbformat_minor": 0,
  "metadata": {
    "language_info": {
      "codemirror_mode": {
        "name": "ipython",
        "version": 3
      },
      "file_extension": ".py",
      "mimetype": "text/x-python",
      "name": "python",
      "nbconvert_exporter": "python",
      "pygments_lexer": "ipython3",
      "version": "3.8.5"
    },
    "orig_nbformat": 2,
    "kernelspec": {
      "name": "python3",
      "display_name": "Python 3",
      "language": "python"
    },
    "colab": {
      "name": "Projet.ipynb",
      "provenance": [],
      "collapsed_sections": [],
      "toc_visible": true
    },
    "accelerator": "GPU"
  },
  "cells": [
    {
      "cell_type": "markdown",
      "metadata": {
        "id": "view-in-github"
      },
      "source": [
        "<a href=\"https://colab.research.google.com/github/eblio/dlolc/blob/main/Projet.ipynb\" target=\"_parent\"><img src=\"https://colab.research.google.com/assets/colab-badge.svg\" alt=\"Open In Colab\"/></a>"
      ]
    },
    {
      "cell_type": "markdown",
      "metadata": {
        "id": "4BeRdHOQKNJK"
      },
      "source": [
        "#Premier réseau de neurones \n",
        "\n",
        "## Premier réseau de neurones convolutifs qui permets de distinguer chacuns des dix champions sur une image. "
      ]
    },
    {
      "cell_type": "code",
      "metadata": {
        "id": "ShH_J4h_1N28"
      },
      "source": [
        "import os\n",
        "import shutil\n",
        "\n",
        "\n",
        "import matplotlib.pyplot as plt\n",
        "import numpy as np\n",
        "import PIL\n",
        "from PIL import Image\n",
        "import os, sys\n",
        "from scipy.io import loadmat\n",
        "\n",
        "from keras.models import Sequential\n",
        "from keras.layers import Dense, Dropout, Flatten, BatchNormalization, Activation\n",
        "from keras.layers.convolutional import Conv2D, MaxPooling2D\n",
        "from keras.constraints import maxnorm\n",
        "from keras.utils import np_utils"
      ],
      "execution_count": 3,
      "outputs": []
    },
    {
      "cell_type": "code",
      "metadata": {
        "colab": {
          "base_uri": "https://localhost:8080/"
        },
        "id": "8NRtIyoH1hJg",
        "outputId": "d0b594e2-6a53-46de-cd62-8ea82eb196aa"
      },
      "source": [
        "!git clone https://github.com/eblio/dlolc.git\n",
        "!git config --global user.email \"alexauragan@gmail.com\"\n",
        "!git config --global user.name \"Alexandre D\""
      ],
      "execution_count": 2,
      "outputs": [
        {
          "output_type": "stream",
          "text": [
            "Cloning into 'dlolc'...\n",
            "remote: Enumerating objects: 22475, done.\u001b[K\n",
            "remote: Counting objects: 100% (9/9), done.\u001b[K\n",
            "remote: Compressing objects: 100% (7/7), done.\u001b[K\n",
            "remote: Total 22475 (delta 3), reused 8 (delta 2), pack-reused 22466\u001b[K\n",
            "Receiving objects: 100% (22475/22475), 4.17 GiB | 24.76 MiB/s, done.\n",
            "Resolving deltas: 100% (2036/2036), done.\n",
            "Checking out files: 100% (15627/15627), done.\n"
          ],
          "name": "stdout"
        }
      ]
    },
    {
      "cell_type": "code",
      "metadata": {
        "id": "NgWf8Uqt1N2_"
      },
      "source": [
        "path = \"./dlolc/data/\"\n",
        "labels = [\"Chogath\", \"Ezreal\", \"Lucian\", \"Malzahar\", \"Morgana\", \"Poppy\", \"Reksai\", \"Senna\", \"Syndra\", \"Teemo\"]\n",
        "num_classes = len(labels)\n",
        "taile_image = 128\n",
        "\n",
        "#x_train, y_train = load_data(path, labels, dataset='train', image_size=600)\n",
        "#print(x_train.shape, y_train.shape)\n",
        "\n",
        "#x_val, y_val = load_data(path, labels, dataset='validation', image_size=600)\n",
        "#print(x_val.shape, y_val.shape)\n",
        "\n",
        "#x_test, y_test = load_data(path, labels, dataset='test', image_size=600)\n",
        "#print(x_test.shape, y_test.shape)\n",
        "\n",
        "#class_num = y_test.shape[1]\n",
        "\n",
        "#plt.figure(figsize=(12, 12))\n",
        "#shuffle_indices = np.random.permutation(9)\n",
        "#for i in range(0, 9):\n",
        "#    plt.subplot(3, 3, i+1)\n",
        "#    image = x_train[shuffle_indices[i]]\n",
        "#    plt.title(labels[int(y_train[shuffle_indices[i]])])\n",
        "#    plt.imshow(image/255)\n",
        "\n",
        "#plt.tight_layout()\n",
        "#plt.show()\n",
        "from keras.preprocessing.image import ImageDataGenerator\n",
        "datagen = ImageDataGenerator()"
      ],
      "execution_count": 5,
      "outputs": []
    },
    {
      "cell_type": "code",
      "metadata": {
        "colab": {
          "base_uri": "https://localhost:8080/"
        },
        "id": "0cIaUa4W1N3A",
        "outputId": "f72154fb-7183-4df7-a074-aef9e5a9e708"
      },
      "source": [
        "from keras.preprocessing.image import ImageDataGenerator\n",
        "datagen = ImageDataGenerator()\n",
        "\n",
        "# load and iterate training dataset\n",
        "train_it = datagen.flow_from_directory('./dlolc/data/train/', class_mode='categorical', batch_size=64, target_size= (128,128))\n",
        "# load and iterate validation dataset\n",
        "val_it = datagen.flow_from_directory('./dlolc/data/validation/', class_mode='categorical', batch_size=64, target_size= (128,128))\n",
        "# load and iterate test dataset\n",
        "test_it = datagen.flow_from_directory('./dlolc/data/test/', class_mode='categorical', batch_size=64, target_size= (128,128))\n",
        "x, y = train_it.next()\n",
        "print(x.shape)"
      ],
      "execution_count": 4,
      "outputs": [
        {
          "output_type": "stream",
          "text": [
            "Found 6408 images belonging to 10 classes.\n",
            "Found 2140 images belonging to 10 classes.\n",
            "Found 2142 images belonging to 10 classes.\n",
            "(64, 128, 128, 3)\n"
          ],
          "name": "stdout"
        }
      ]
    },
    {
      "cell_type": "code",
      "metadata": {
        "colab": {
          "base_uri": "https://localhost:8080/"
        },
        "id": "U1prXfdi1N3A",
        "outputId": "04b07387-11ad-43c0-e213-287510d3d959"
      },
      "source": [
        "model = Sequential()\n",
        "\n",
        "model.add(Conv2D(32, (3, 3), input_shape=(taile_image,taile_image,3), padding='same'))\n",
        "model.add(Activation('relu'))\n",
        "model.add(BatchNormalization())\n",
        "\n",
        "model.add(Conv2D(64, (3, 3), padding='same'))\n",
        "model.add(Activation('relu'))\n",
        "model.add(MaxPooling2D(pool_size=(2, 2)))\n",
        "model.add(BatchNormalization())\n",
        "\n",
        "model.add(Conv2D(64, (3, 3), padding='same'))\n",
        "model.add(Activation('relu'))\n",
        "model.add(MaxPooling2D(pool_size=(2, 2)))\n",
        "model.add(BatchNormalization())\n",
        "\n",
        "model.add(Conv2D(128, (3, 3), padding='same'))\n",
        "model.add(Activation('relu'))\n",
        "model.add(MaxPooling2D(pool_size=(2, 2)))\n",
        "model.add(BatchNormalization())\n",
        "\n",
        "model.add(Conv2D(256, (3, 3), padding='same'))\n",
        "model.add(Activation('relu'))\n",
        "model.add(MaxPooling2D(pool_size=(2, 2)))\n",
        "model.add(BatchNormalization())\n",
        "\n",
        "model.add(Flatten())\n",
        "\n",
        "model.add(Dense(256, kernel_constraint=maxnorm(3)))\n",
        "model.add(Activation('relu'))\n",
        "model.add(BatchNormalization())\n",
        "model.add(Dense(128, kernel_constraint=maxnorm(3)))\n",
        "model.add(Activation('relu'))\n",
        "model.add(BatchNormalization())\n",
        "model.add(Dense(num_classes))\n",
        "model.add(Activation('softmax'))\n",
        "\n",
        "\n",
        "\n",
        "optimizer = 'adam'\n",
        "\n",
        "model.compile(loss='categorical_crossentropy', optimizer=optimizer, metrics = ['accuracy'])\n",
        "model.save(\"./dlolc/keras models/premier_model\")\n",
        "print(model.summary())"
      ],
      "execution_count": 5,
      "outputs": [
        {
          "output_type": "stream",
          "text": [
            "INFO:tensorflow:Assets written to: ./dlolc/keras models/premier_model/assets\n",
            "Model: \"sequential\"\n",
            "_________________________________________________________________\n",
            "Layer (type)                 Output Shape              Param #   \n",
            "=================================================================\n",
            "conv2d (Conv2D)              (None, 128, 128, 32)      896       \n",
            "_________________________________________________________________\n",
            "activation (Activation)      (None, 128, 128, 32)      0         \n",
            "_________________________________________________________________\n",
            "batch_normalization (BatchNo (None, 128, 128, 32)      128       \n",
            "_________________________________________________________________\n",
            "conv2d_1 (Conv2D)            (None, 128, 128, 64)      18496     \n",
            "_________________________________________________________________\n",
            "activation_1 (Activation)    (None, 128, 128, 64)      0         \n",
            "_________________________________________________________________\n",
            "max_pooling2d (MaxPooling2D) (None, 64, 64, 64)        0         \n",
            "_________________________________________________________________\n",
            "batch_normalization_1 (Batch (None, 64, 64, 64)        256       \n",
            "_________________________________________________________________\n",
            "conv2d_2 (Conv2D)            (None, 64, 64, 64)        36928     \n",
            "_________________________________________________________________\n",
            "activation_2 (Activation)    (None, 64, 64, 64)        0         \n",
            "_________________________________________________________________\n",
            "max_pooling2d_1 (MaxPooling2 (None, 32, 32, 64)        0         \n",
            "_________________________________________________________________\n",
            "batch_normalization_2 (Batch (None, 32, 32, 64)        256       \n",
            "_________________________________________________________________\n",
            "conv2d_3 (Conv2D)            (None, 32, 32, 128)       73856     \n",
            "_________________________________________________________________\n",
            "activation_3 (Activation)    (None, 32, 32, 128)       0         \n",
            "_________________________________________________________________\n",
            "max_pooling2d_2 (MaxPooling2 (None, 16, 16, 128)       0         \n",
            "_________________________________________________________________\n",
            "batch_normalization_3 (Batch (None, 16, 16, 128)       512       \n",
            "_________________________________________________________________\n",
            "conv2d_4 (Conv2D)            (None, 16, 16, 256)       295168    \n",
            "_________________________________________________________________\n",
            "activation_4 (Activation)    (None, 16, 16, 256)       0         \n",
            "_________________________________________________________________\n",
            "max_pooling2d_3 (MaxPooling2 (None, 8, 8, 256)         0         \n",
            "_________________________________________________________________\n",
            "batch_normalization_4 (Batch (None, 8, 8, 256)         1024      \n",
            "_________________________________________________________________\n",
            "flatten (Flatten)            (None, 16384)             0         \n",
            "_________________________________________________________________\n",
            "dense (Dense)                (None, 256)               4194560   \n",
            "_________________________________________________________________\n",
            "activation_5 (Activation)    (None, 256)               0         \n",
            "_________________________________________________________________\n",
            "batch_normalization_5 (Batch (None, 256)               1024      \n",
            "_________________________________________________________________\n",
            "dense_1 (Dense)              (None, 128)               32896     \n",
            "_________________________________________________________________\n",
            "activation_6 (Activation)    (None, 128)               0         \n",
            "_________________________________________________________________\n",
            "batch_normalization_6 (Batch (None, 128)               512       \n",
            "_________________________________________________________________\n",
            "dense_2 (Dense)              (None, 10)                1290      \n",
            "_________________________________________________________________\n",
            "activation_7 (Activation)    (None, 10)                0         \n",
            "=================================================================\n",
            "Total params: 4,657,802\n",
            "Trainable params: 4,655,946\n",
            "Non-trainable params: 1,856\n",
            "_________________________________________________________________\n",
            "None\n"
          ],
          "name": "stdout"
        }
      ]
    },
    {
      "cell_type": "code",
      "metadata": {
        "colab": {
          "base_uri": "https://localhost:8080/"
        },
        "id": "GoKUf__31N3A",
        "outputId": "b9826070-529f-40d6-d846-e6535806dafe"
      },
      "source": [
        "step_size_train = train_it.n//train_it.batch_size\n",
        "step_size_valid = val_it.n//val_it.batch_size\n",
        "\n",
        "history  = model.fit(train_it,\n",
        "          epochs = 15,\n",
        "          verbose = 1,\n",
        "          batch_size = 64,\n",
        "          validation_data = val_it)\n",
        "model.save(\"./dlolc/keras models/premier_model_entrainé\")"
      ],
      "execution_count": 6,
      "outputs": [
        {
          "output_type": "stream",
          "text": [
            "Epoch 1/15\n",
            "101/101 [==============================] - 47s 116ms/step - loss: 0.9219 - accuracy: 0.7189 - val_loss: 0.5498 - val_accuracy: 0.8168\n",
            "Epoch 2/15\n",
            "101/101 [==============================] - 10s 102ms/step - loss: 0.1068 - accuracy: 0.9694 - val_loss: 0.1334 - val_accuracy: 0.9565\n",
            "Epoch 3/15\n",
            "101/101 [==============================] - 10s 103ms/step - loss: 0.0749 - accuracy: 0.9792 - val_loss: 0.2452 - val_accuracy: 0.9215\n",
            "Epoch 4/15\n",
            "101/101 [==============================] - 10s 103ms/step - loss: 0.0565 - accuracy: 0.9857 - val_loss: 0.1733 - val_accuracy: 0.9500\n",
            "Epoch 5/15\n",
            "101/101 [==============================] - 11s 104ms/step - loss: 0.0343 - accuracy: 0.9916 - val_loss: 0.0680 - val_accuracy: 0.9808\n",
            "Epoch 6/15\n",
            "101/101 [==============================] - 11s 105ms/step - loss: 0.0194 - accuracy: 0.9955 - val_loss: 0.0738 - val_accuracy: 0.9799\n",
            "Epoch 7/15\n",
            "101/101 [==============================] - 11s 106ms/step - loss: 0.0118 - accuracy: 0.9976 - val_loss: 0.0703 - val_accuracy: 0.9799\n",
            "Epoch 8/15\n",
            "101/101 [==============================] - 11s 108ms/step - loss: 0.0122 - accuracy: 0.9981 - val_loss: 0.0958 - val_accuracy: 0.9743\n",
            "Epoch 9/15\n",
            "101/101 [==============================] - 11s 108ms/step - loss: 0.0170 - accuracy: 0.9962 - val_loss: 0.1026 - val_accuracy: 0.9696\n",
            "Epoch 10/15\n",
            "101/101 [==============================] - 11s 110ms/step - loss: 0.0152 - accuracy: 0.9954 - val_loss: 0.0681 - val_accuracy: 0.9818\n",
            "Epoch 11/15\n",
            "101/101 [==============================] - 11s 108ms/step - loss: 0.0065 - accuracy: 0.9993 - val_loss: 0.0746 - val_accuracy: 0.9766\n",
            "Epoch 12/15\n",
            "101/101 [==============================] - 11s 108ms/step - loss: 0.0089 - accuracy: 0.9970 - val_loss: 0.1272 - val_accuracy: 0.9687\n",
            "Epoch 13/15\n",
            "101/101 [==============================] - 11s 107ms/step - loss: 0.0852 - accuracy: 0.9737 - val_loss: 1.9311 - val_accuracy: 0.7187\n",
            "Epoch 14/15\n",
            "101/101 [==============================] - 11s 107ms/step - loss: 0.0503 - accuracy: 0.9830 - val_loss: 0.1461 - val_accuracy: 0.9561\n",
            "Epoch 15/15\n",
            "101/101 [==============================] - 11s 107ms/step - loss: 0.0220 - accuracy: 0.9935 - val_loss: 0.0548 - val_accuracy: 0.9836\n",
            "INFO:tensorflow:Assets written to: ./dlolc/keras models/premier_model_entrainé/assets\n"
          ],
          "name": "stdout"
        }
      ]
    },
    {
      "cell_type": "code",
      "metadata": {
        "colab": {
          "base_uri": "https://localhost:8080/"
        },
        "id": "r0Y-K7za1N3C",
        "outputId": "68626bd2-454b-4a84-860f-6d74bd67b1e6"
      },
      "source": [
        "loss,acc = model.evaluate(test_it)\n",
        "print(\"Accuracy : \"+ str(acc*100) +\"%\")"
      ],
      "execution_count": 7,
      "outputs": [
        {
          "output_type": "stream",
          "text": [
            "34/34 [==============================] - 2s 48ms/step - loss: 0.0519 - accuracy: 0.9823\n",
            "Accuracy : 98.22595715522766%\n"
          ],
          "name": "stdout"
        }
      ]
    },
    {
      "cell_type": "code",
      "metadata": {
        "id": "HZSQzQ4OflS-"
      },
      "source": [
        ""
      ],
      "execution_count": 7,
      "outputs": []
    },
    {
      "cell_type": "code",
      "metadata": {
        "colab": {
          "base_uri": "https://localhost:8080/",
          "height": 590
        },
        "id": "KCi5_zp5eEaS",
        "outputId": "eeb68d99-8fc6-4435-bccd-c5133ef6cfd1"
      },
      "source": [
        "import matplotlib.pyplot as plt\n",
        "\n",
        "print(history.history.keys())\n",
        "# summarize history for accuracy\n",
        "plt.plot(history.history['accuracy'])\n",
        "plt.plot(history.history['val_accuracy'])\n",
        "plt.title('model accuracy')\n",
        "plt.ylabel('accuracy')\n",
        "plt.xlabel('epoch')\n",
        "plt.legend(['train', 'test'], loc='upper left')\n",
        "plt.show()\n",
        "# summarize history for loss\n",
        "plt.plot(history.history['loss'])\n",
        "plt.plot(history.history['val_loss'])\n",
        "plt.title('model loss')\n",
        "plt.ylabel('loss')\n",
        "plt.xlabel('epoch')\n",
        "plt.legend(['train', 'test'], loc='upper left')\n",
        "plt.show()"
      ],
      "execution_count": 8,
      "outputs": [
        {
          "output_type": "stream",
          "text": [
            "dict_keys(['loss', 'accuracy', 'val_loss', 'val_accuracy'])\n"
          ],
          "name": "stdout"
        },
        {
          "output_type": "display_data",
          "data": {
            "image/png": "[encoded data removed]",
            "text/plain": [
              "<Figure size 432x288 with 1 Axes>"
            ]
          },
          "metadata": {
            "tags": [],
            "needs_background": "light"
          }
        },
        {
          "output_type": "display_data",
          "data": {
            "image/png": "[encoded data removed]",
            "text/plain": [
              "<Figure size 432x288 with 1 Axes>"
            ]
          },
          "metadata": {
            "tags": [],
            "needs_background": "light"
          }
        }
      ]
    },
    {
      "cell_type": "code",
      "metadata": {
        "colab": {
          "base_uri": "https://localhost:8080/",
          "height": 238
        },
        "id": "WuCTl2jfp1TT",
        "outputId": "1bf5bb38-234a-4308-e4e4-691e6cefca7f"
      },
      "source": [
        "!zip -r /content/file.zip /content/dlolc/keras\\ models\n",
        "from google.colab import files\n",
        "files.download(\"/content/file.zip\")"
      ],
      "execution_count": 9,
      "outputs": [
        {
          "output_type": "stream",
          "text": [
            "  adding: content/dlolc/keras models/ (stored 0%)\n",
            "  adding: content/dlolc/keras models/premier_model/ (stored 0%)\n",
            "  adding: content/dlolc/keras models/premier_model/variables/ (stored 0%)\n",
            "  adding: content/dlolc/keras models/premier_model/variables/variables.data-00000-of-00001 (deflated 9%)\n",
            "  adding: content/dlolc/keras models/premier_model/variables/variables.index (deflated 73%)\n",
            "  adding: content/dlolc/keras models/premier_model/saved_model.pb (deflated 90%)\n",
            "  adding: content/dlolc/keras models/premier_model/assets/ (stored 0%)\n",
            "  adding: content/dlolc/keras models/premier_model_entrainé/ (stored 0%)\n",
            "  adding: content/dlolc/keras models/premier_model_entrainé/variables/ (stored 0%)\n",
            "  adding: content/dlolc/keras models/premier_model_entrainé/variables/variables.data-00000-of-00001 (deflated 8%)\n",
            "  adding: content/dlolc/keras models/premier_model_entrainé/variables/variables.index (deflated 74%)\n",
            "  adding: content/dlolc/keras models/premier_model_entrainé/saved_model.pb (deflated 91%)\n",
            "  adding: content/dlolc/keras models/premier_model_entrainé/assets/ (stored 0%)\n"
          ],
          "name": "stdout"
        },
        {
          "output_type": "display_data",
          "data": {
            "application/javascript": [
              "\n",
              "    async function download(id, filename, size) {\n",
              "      if (!google.colab.kernel.accessAllowed) {\n",
              "        return;\n",
              "      }\n",
              "      const div = document.createElement('div');\n",
              "      const label = document.createElement('label');\n",
              "      label.textContent = `Downloading \"${filename}\": `;\n",
              "      div.appendChild(label);\n",
              "      const progress = document.createElement('progress');\n",
              "      progress.max = size;\n",
              "      div.appendChild(progress);\n",
              "      document.body.appendChild(div);\n",
              "\n",
              "      const buffers = [];\n",
              "      let downloaded = 0;\n",
              "\n",
              "      const channel = await google.colab.kernel.comms.open(id);\n",
              "      // Send a message to notify the kernel that we're ready.\n",
              "      channel.send({})\n",
              "\n",
              "      for await (const message of channel.messages) {\n",
              "        // Send a message to notify the kernel that we're ready.\n",
              "        channel.send({})\n",
              "        if (message.buffers) {\n",
              "          for (const buffer of message.buffers) {\n",
              "            buffers.push(buffer);\n",
              "            downloaded += buffer.byteLength;\n",
              "            progress.value = downloaded;\n",
              "          }\n",
              "        }\n",
              "      }\n",
              "      const blob = new Blob(buffers, {type: 'application/binary'});\n",
              "      const a = document.createElement('a');\n",
              "      a.href = window.URL.createObjectURL(blob);\n",
              "      a.download = filename;\n",
              "      div.appendChild(a);\n",
              "      a.click();\n",
              "      div.remove();\n",
              "    }\n",
              "  "
            ],
            "text/plain": [
              "<IPython.core.display.Javascript object>"
            ]
          },
          "metadata": {
            "tags": []
          }
        },
        {
          "output_type": "display_data",
          "data": {
            "application/javascript": [
              "download(\"download_23d7cef8-8642-4ab8-b4eb-d97f826fbe4a\", \"file.zip\", 68447559)"
            ],
            "text/plain": [
              "<IPython.core.display.Javascript object>"
            ]
          },
          "metadata": {
            "tags": []
          }
        }
      ]
    },
    {
      "cell_type": "markdown",
      "metadata": {
        "id": "s73FZqI5W-ru"
      },
      "source": [
        "Donc là on a une grosse accuracy, c'est normal parce que les vidéos sont continues, on essaie avec un second set de données\n"
      ]
    },
    {
      "cell_type": "code",
      "metadata": {
        "colab": {
          "base_uri": "https://localhost:8080/"
        },
        "id": "WSy_drZtXNnu",
        "outputId": "33b2f666-9e96-445f-94be-49afd6f6f978"
      },
      "source": [
        "# load and iterate training dataset\n",
        "train_it2 = datagen.flow_from_directory('./dlolc/data/train2/', class_mode='categorical', batch_size=64, target_size= (128,128))\n",
        "# load and iterate validation dataset\n",
        "val_it2 = datagen.flow_from_directory('./dlolc/data/validation2/', class_mode='categorical', batch_size=64, target_size= (128,128))\n",
        "# load and iterate test dataset\n",
        "test_it2 = datagen.flow_from_directory('./dlolc/data/test2/', class_mode='categorical', batch_size=64, target_size= (128,128))\n",
        "\n",
        "model = Sequential()\n",
        "\n",
        "model.add(Conv2D(32, (3, 3), input_shape=(taile_image,taile_image,3), padding='same'))\n",
        "model.add(Activation('relu'))\n",
        "model.add(BatchNormalization())\n",
        "\n",
        "model.add(Conv2D(64, (3, 3), padding='same'))\n",
        "model.add(Activation('relu'))\n",
        "model.add(MaxPooling2D(pool_size=(2, 2)))\n",
        "model.add(BatchNormalization())\n",
        "\n",
        "model.add(Conv2D(64, (3, 3), padding='same'))\n",
        "model.add(Activation('relu'))\n",
        "model.add(MaxPooling2D(pool_size=(2, 2)))\n",
        "model.add(BatchNormalization())\n",
        "\n",
        "model.add(Conv2D(128, (3, 3), padding='same'))\n",
        "model.add(Activation('relu'))\n",
        "model.add(MaxPooling2D(pool_size=(2, 2)))\n",
        "model.add(BatchNormalization())\n",
        "\n",
        "model.add(Conv2D(256, (3, 3), padding='same'))\n",
        "model.add(Activation('relu'))\n",
        "model.add(MaxPooling2D(pool_size=(2, 2)))\n",
        "model.add(BatchNormalization())\n",
        "\n",
        "model.add(Flatten())\n",
        "\n",
        "model.add(Dense(256, kernel_constraint=maxnorm(3)))\n",
        "model.add(Activation('relu'))\n",
        "model.add(BatchNormalization())\n",
        "model.add(Dense(128, kernel_constraint=maxnorm(3)))\n",
        "model.add(Activation('relu'))\n",
        "model.add(BatchNormalization())\n",
        "model.add(Dense(num_classes/2))\n",
        "model.add(Activation('softmax'))\n",
        "\n",
        "\n",
        "\n",
        "optimizer = 'adam'\n",
        "\n",
        "model.compile(loss='categorical_crossentropy', optimizer=optimizer, metrics = ['accuracy'])\n",
        "model.save(\"./dlolc/keras models/premier_model_taille_5\")\n",
        "print(model.summary())\n",
        "\n",
        "step_size_train = train_it2.n//train_it2.batch_size\n",
        "step_size_valid = val_it2.n//val_it2.batch_size\n",
        "\n",
        "history  = model.fit(train_it2,\n",
        "          epochs = 15,\n",
        "          verbose = 1,\n",
        "          batch_size = 64,\n",
        "          validation_data = val_it2)\n",
        "model.save(\"./dlolc/keras models/premier_model_entrainé_sur_set_2\")\n",
        "\n"
      ],
      "execution_count": 51,
      "outputs": [
        {
          "output_type": "stream",
          "text": [
            "Found 3054 images belonging to 5 classes.\n",
            "Found 1020 images belonging to 5 classes.\n",
            "Found 839 images belonging to 5 classes.\n",
            "INFO:tensorflow:Assets written to: ./dlolc/keras models/premier_model_taille_5/assets\n",
            "Model: \"sequential_1\"\n",
            "_________________________________________________________________\n",
            "Layer (type)                 Output Shape              Param #   \n",
            "=================================================================\n",
            "conv2d_5 (Conv2D)            (None, 128, 128, 32)      896       \n",
            "_________________________________________________________________\n",
            "activation_8 (Activation)    (None, 128, 128, 32)      0         \n",
            "_________________________________________________________________\n",
            "batch_normalization_7 (Batch (None, 128, 128, 32)      128       \n",
            "_________________________________________________________________\n",
            "conv2d_6 (Conv2D)            (None, 128, 128, 64)      18496     \n",
            "_________________________________________________________________\n",
            "activation_9 (Activation)    (None, 128, 128, 64)      0         \n",
            "_________________________________________________________________\n",
            "max_pooling2d_4 (MaxPooling2 (None, 64, 64, 64)        0         \n",
            "_________________________________________________________________\n",
            "batch_normalization_8 (Batch (None, 64, 64, 64)        256       \n",
            "_________________________________________________________________\n",
            "conv2d_7 (Conv2D)            (None, 64, 64, 64)        36928     \n",
            "_________________________________________________________________\n",
            "activation_10 (Activation)   (None, 64, 64, 64)        0         \n",
            "_________________________________________________________________\n",
            "max_pooling2d_5 (MaxPooling2 (None, 32, 32, 64)        0         \n",
            "_________________________________________________________________\n",
            "batch_normalization_9 (Batch (None, 32, 32, 64)        256       \n",
            "_________________________________________________________________\n",
            "conv2d_8 (Conv2D)            (None, 32, 32, 128)       73856     \n",
            "_________________________________________________________________\n",
            "activation_11 (Activation)   (None, 32, 32, 128)       0         \n",
            "_________________________________________________________________\n",
            "max_pooling2d_6 (MaxPooling2 (None, 16, 16, 128)       0         \n",
            "_________________________________________________________________\n",
            "batch_normalization_10 (Batc (None, 16, 16, 128)       512       \n",
            "_________________________________________________________________\n",
            "conv2d_9 (Conv2D)            (None, 16, 16, 256)       295168    \n",
            "_________________________________________________________________\n",
            "activation_12 (Activation)   (None, 16, 16, 256)       0         \n",
            "_________________________________________________________________\n",
            "max_pooling2d_7 (MaxPooling2 (None, 8, 8, 256)         0         \n",
            "_________________________________________________________________\n",
            "batch_normalization_11 (Batc (None, 8, 8, 256)         1024      \n",
            "_________________________________________________________________\n",
            "flatten_1 (Flatten)          (None, 16384)             0         \n",
            "_________________________________________________________________\n",
            "dense_3 (Dense)              (None, 256)               4194560   \n",
            "_________________________________________________________________\n",
            "activation_13 (Activation)   (None, 256)               0         \n",
            "_________________________________________________________________\n",
            "batch_normalization_12 (Batc (None, 256)               1024      \n",
            "_________________________________________________________________\n",
            "dense_4 (Dense)              (None, 128)               32896     \n",
            "_________________________________________________________________\n",
            "activation_14 (Activation)   (None, 128)               0         \n",
            "_________________________________________________________________\n",
            "batch_normalization_13 (Batc (None, 128)               512       \n",
            "_________________________________________________________________\n",
            "dense_5 (Dense)              (None, 5)                 645       \n",
            "_________________________________________________________________\n",
            "activation_15 (Activation)   (None, 5)                 0         \n",
            "=================================================================\n",
            "Total params: 4,657,157\n",
            "Trainable params: 4,655,301\n",
            "Non-trainable params: 1,856\n",
            "_________________________________________________________________\n",
            "None\n",
            "Epoch 1/15\n",
            "48/48 [==============================] - 7s 118ms/step - loss: 0.9647 - accuracy: 0.6956 - val_loss: 2.5568 - val_accuracy: 0.3990\n",
            "Epoch 2/15\n",
            "48/48 [==============================] - 5s 112ms/step - loss: 0.1014 - accuracy: 0.9694 - val_loss: 0.8062 - val_accuracy: 0.7490\n",
            "Epoch 3/15\n",
            "48/48 [==============================] - 5s 113ms/step - loss: 0.0663 - accuracy: 0.9812 - val_loss: 0.1679 - val_accuracy: 0.9471\n",
            "Epoch 4/15\n",
            "48/48 [==============================] - 5s 114ms/step - loss: 0.0302 - accuracy: 0.9947 - val_loss: 0.1178 - val_accuracy: 0.9618\n",
            "Epoch 5/15\n",
            "48/48 [==============================] - 5s 113ms/step - loss: 0.0159 - accuracy: 0.9958 - val_loss: 0.1003 - val_accuracy: 0.9716\n",
            "Epoch 6/15\n",
            "48/48 [==============================] - 5s 112ms/step - loss: 0.0266 - accuracy: 0.9919 - val_loss: 0.1209 - val_accuracy: 0.9608\n",
            "Epoch 7/15\n",
            "48/48 [==============================] - 5s 111ms/step - loss: 0.0135 - accuracy: 0.9988 - val_loss: 0.2264 - val_accuracy: 0.9382\n",
            "Epoch 8/15\n",
            "48/48 [==============================] - 5s 111ms/step - loss: 0.0417 - accuracy: 0.9887 - val_loss: 0.2014 - val_accuracy: 0.9422\n",
            "Epoch 9/15\n",
            "48/48 [==============================] - 5s 110ms/step - loss: 0.0094 - accuracy: 0.9985 - val_loss: 0.0838 - val_accuracy: 0.9784\n",
            "Epoch 10/15\n",
            "48/48 [==============================] - 5s 110ms/step - loss: 0.0111 - accuracy: 0.9976 - val_loss: 0.1484 - val_accuracy: 0.9598\n",
            "Epoch 11/15\n",
            "48/48 [==============================] - 5s 109ms/step - loss: 0.0089 - accuracy: 0.9982 - val_loss: 0.0647 - val_accuracy: 0.9833\n",
            "Epoch 12/15\n",
            "48/48 [==============================] - 5s 109ms/step - loss: 0.0028 - accuracy: 0.9997 - val_loss: 0.0608 - val_accuracy: 0.9824\n",
            "Epoch 13/15\n",
            "48/48 [==============================] - 5s 109ms/step - loss: 0.0028 - accuracy: 1.0000 - val_loss: 0.0591 - val_accuracy: 0.9873\n",
            "Epoch 14/15\n",
            "48/48 [==============================] - 5s 110ms/step - loss: 0.0020 - accuracy: 0.9996 - val_loss: 0.0557 - val_accuracy: 0.9882\n",
            "Epoch 15/15\n",
            "48/48 [==============================] - 5s 110ms/step - loss: 8.9292e-04 - accuracy: 0.9999 - val_loss: 0.0560 - val_accuracy: 0.9873\n",
            "INFO:tensorflow:Assets written to: ./dlolc/keras models/premier_model_entrainé_sur_set_2/assets\n"
          ],
          "name": "stdout"
        }
      ]
    },
    {
      "cell_type": "code",
      "metadata": {
        "id": "24TicId48cgl"
      },
      "source": [
        ""
      ],
      "execution_count": 10,
      "outputs": []
    },
    {
      "cell_type": "code",
      "metadata": {
        "id": "D3a6VhcIZOWm",
        "colab": {
          "base_uri": "https://localhost:8080/"
        },
        "outputId": "05747fea-67e6-4366-bacd-07df5b0f4d95"
      },
      "source": [
        "\n",
        "loss,acc = model.evaluate(test_it2)\n",
        "print(\"Accuracy : \"+ str(acc*100) +\"%\")"
      ],
      "execution_count": 52,
      "outputs": [
        {
          "output_type": "stream",
          "text": [
            "14/14 [==============================] - 1s 66ms/step - loss: 1.1914 - accuracy: 0.7712\n",
            "Accuracy : 77.11561322212219%\n"
          ],
          "name": "stdout"
        }
      ]
    },
    {
      "cell_type": "markdown",
      "metadata": {
        "id": "TdW2sH9m8BVw"
      },
      "source": [
        "là d'un coup on drop en accuracy, c'est normal parce qu'on a un meilleur ensemble de photos de tests. On pourrait retenter avec des photos plus compliquées encore mais j'ai pas le time de tout filmer huit fois.\n",
        "ON A SURAPPRENTIS DE OUF"
      ]
    },
    {
      "cell_type": "code",
      "metadata": {
        "id": "hfZeMpwCXE-i",
        "colab": {
          "base_uri": "https://localhost:8080/"
        },
        "outputId": "a923cdcd-d2e2-4cdd-95d8-4b07d742cf48"
      },
      "source": [
        "# load and iterate training dataset\n",
        "train_it2 = datagen.flow_from_directory('./dlolc/data/train2/', class_mode='categorical', batch_size=64, target_size= (128,128))\n",
        "# load and iterate validation dataset\n",
        "val_it2 = datagen.flow_from_directory('./dlolc/data/validation2/', class_mode='categorical', batch_size=64, target_size= (128,128))\n",
        "# load and iterate test dataset\n",
        "test_it2 = datagen.flow_from_directory('./dlolc/data/test2/', class_mode='categorical', batch_size=64, target_size= (128,128))\n"
      ],
      "execution_count": 23,
      "outputs": [
        {
          "output_type": "stream",
          "text": [
            "Found 3054 images belonging to 5 classes.\n",
            "Found 1020 images belonging to 5 classes.\n",
            "Found 839 images belonging to 5 classes.\n"
          ],
          "name": "stdout"
        }
      ]
    },
    {
      "cell_type": "markdown",
      "metadata": {
        "id": "cu27w4ie9QMl"
      },
      "source": [
        "le droupout sert à éviter le surapprentissage mais ça n'a pas servit à grand chose ici"
      ]
    },
    {
      "cell_type": "code",
      "metadata": {
        "colab": {
          "base_uri": "https://localhost:8080/",
          "height": 391
        },
        "id": "Bk5-pgZ0OaYx",
        "outputId": "0d1a9c4f-a7f0-4e0e-ea46-18bb42a21a1c"
      },
      "source": [
        ""
      ],
      "execution_count": 49,
      "outputs": [
        {
          "output_type": "stream",
          "text": [
            "Confusion Matrix\n"
          ],
          "name": "stdout"
        },
        {
          "output_type": "error",
          "ename": "ValueError",
          "evalue": "ignored",
          "traceback": [
            "\u001b[0;31m---------------------------------------------------------------------------\u001b[0m",
            "\u001b[0;31mValueError\u001b[0m                                Traceback (most recent call last)",
            "\u001b[0;32m<ipython-input-49-0f3d7e49493e>\u001b[0m in \u001b[0;36m<module>\u001b[0;34m()\u001b[0m\n\u001b[1;32m      5\u001b[0m \u001b[0my_pred\u001b[0m \u001b[0;34m=\u001b[0m \u001b[0mnp\u001b[0m\u001b[0;34m.\u001b[0m\u001b[0margmax\u001b[0m\u001b[0;34m(\u001b[0m\u001b[0mY_pred\u001b[0m\u001b[0;34m,\u001b[0m \u001b[0maxis\u001b[0m\u001b[0;34m=\u001b[0m\u001b[0;36m1\u001b[0m\u001b[0;34m)\u001b[0m\u001b[0;34m\u001b[0m\u001b[0;34m\u001b[0m\u001b[0m\n\u001b[1;32m      6\u001b[0m \u001b[0mprint\u001b[0m\u001b[0;34m(\u001b[0m\u001b[0;34m'Confusion Matrix'\u001b[0m\u001b[0;34m)\u001b[0m\u001b[0;34m\u001b[0m\u001b[0;34m\u001b[0m\u001b[0m\n\u001b[0;32m----> 7\u001b[0;31m \u001b[0mprint\u001b[0m\u001b[0;34m(\u001b[0m\u001b[0mconfusion_matrix\u001b[0m\u001b[0;34m(\u001b[0m\u001b[0mtest_it2\u001b[0m\u001b[0;34m.\u001b[0m\u001b[0mclasses\u001b[0m\u001b[0;34m,\u001b[0m \u001b[0my_pred\u001b[0m\u001b[0;34m)\u001b[0m\u001b[0;34m)\u001b[0m\u001b[0;34m\u001b[0m\u001b[0;34m\u001b[0m\u001b[0m\n\u001b[0m\u001b[1;32m      8\u001b[0m \u001b[0mprint\u001b[0m\u001b[0;34m(\u001b[0m\u001b[0;34m'Classification Report'\u001b[0m\u001b[0;34m)\u001b[0m\u001b[0;34m\u001b[0m\u001b[0;34m\u001b[0m\u001b[0m\n\u001b[1;32m      9\u001b[0m \u001b[0mtarget_names\u001b[0m \u001b[0;34m=\u001b[0m \u001b[0;34m[\u001b[0m\u001b[0;34m'Chogath'\u001b[0m\u001b[0;34m,\u001b[0m \u001b[0;34m'Ezreal'\u001b[0m\u001b[0;34m,\u001b[0m \u001b[0;34m'Morgana'\u001b[0m\u001b[0;34m,\u001b[0m\u001b[0;34m'Poppy'\u001b[0m\u001b[0;34m,\u001b[0m\u001b[0;34m'Senna'\u001b[0m\u001b[0;34m]\u001b[0m\u001b[0;34m\u001b[0m\u001b[0;34m\u001b[0m\u001b[0m\n",
            "\u001b[0;32m/usr/local/lib/python3.7/dist-packages/sklearn/metrics/_classification.py\u001b[0m in \u001b[0;36mconfusion_matrix\u001b[0;34m(y_true, y_pred, labels, sample_weight, normalize)\u001b[0m\n\u001b[1;32m    266\u001b[0m \u001b[0;34m\u001b[0m\u001b[0m\n\u001b[1;32m    267\u001b[0m     \"\"\"\n\u001b[0;32m--> 268\u001b[0;31m     \u001b[0my_type\u001b[0m\u001b[0;34m,\u001b[0m \u001b[0my_true\u001b[0m\u001b[0;34m,\u001b[0m \u001b[0my_pred\u001b[0m \u001b[0;34m=\u001b[0m \u001b[0m_check_targets\u001b[0m\u001b[0;34m(\u001b[0m\u001b[0my_true\u001b[0m\u001b[0;34m,\u001b[0m \u001b[0my_pred\u001b[0m\u001b[0;34m)\u001b[0m\u001b[0;34m\u001b[0m\u001b[0;34m\u001b[0m\u001b[0m\n\u001b[0m\u001b[1;32m    269\u001b[0m     \u001b[0;32mif\u001b[0m \u001b[0my_type\u001b[0m \u001b[0;32mnot\u001b[0m \u001b[0;32min\u001b[0m \u001b[0;34m(\u001b[0m\u001b[0;34m\"binary\"\u001b[0m\u001b[0;34m,\u001b[0m \u001b[0;34m\"multiclass\"\u001b[0m\u001b[0;34m)\u001b[0m\u001b[0;34m:\u001b[0m\u001b[0;34m\u001b[0m\u001b[0;34m\u001b[0m\u001b[0m\n\u001b[1;32m    270\u001b[0m         \u001b[0;32mraise\u001b[0m \u001b[0mValueError\u001b[0m\u001b[0;34m(\u001b[0m\u001b[0;34m\"%s is not supported\"\u001b[0m \u001b[0;34m%\u001b[0m \u001b[0my_type\u001b[0m\u001b[0;34m)\u001b[0m\u001b[0;34m\u001b[0m\u001b[0;34m\u001b[0m\u001b[0m\n",
            "\u001b[0;32m/usr/local/lib/python3.7/dist-packages/sklearn/metrics/_classification.py\u001b[0m in \u001b[0;36m_check_targets\u001b[0;34m(y_true, y_pred)\u001b[0m\n\u001b[1;32m     78\u001b[0m     \u001b[0my_pred\u001b[0m \u001b[0;34m:\u001b[0m \u001b[0marray\u001b[0m \u001b[0;32mor\u001b[0m \u001b[0mindicator\u001b[0m \u001b[0mmatrix\u001b[0m\u001b[0;34m\u001b[0m\u001b[0;34m\u001b[0m\u001b[0m\n\u001b[1;32m     79\u001b[0m     \"\"\"\n\u001b[0;32m---> 80\u001b[0;31m     \u001b[0mcheck_consistent_length\u001b[0m\u001b[0;34m(\u001b[0m\u001b[0my_true\u001b[0m\u001b[0;34m,\u001b[0m \u001b[0my_pred\u001b[0m\u001b[0;34m)\u001b[0m\u001b[0;34m\u001b[0m\u001b[0;34m\u001b[0m\u001b[0m\n\u001b[0m\u001b[1;32m     81\u001b[0m     \u001b[0mtype_true\u001b[0m \u001b[0;34m=\u001b[0m \u001b[0mtype_of_target\u001b[0m\u001b[0;34m(\u001b[0m\u001b[0my_true\u001b[0m\u001b[0;34m)\u001b[0m\u001b[0;34m\u001b[0m\u001b[0;34m\u001b[0m\u001b[0m\n\u001b[1;32m     82\u001b[0m     \u001b[0mtype_pred\u001b[0m \u001b[0;34m=\u001b[0m \u001b[0mtype_of_target\u001b[0m\u001b[0;34m(\u001b[0m\u001b[0my_pred\u001b[0m\u001b[0;34m)\u001b[0m\u001b[0;34m\u001b[0m\u001b[0;34m\u001b[0m\u001b[0m\n",
            "\u001b[0;32m/usr/local/lib/python3.7/dist-packages/sklearn/utils/validation.py\u001b[0m in \u001b[0;36mcheck_consistent_length\u001b[0;34m(*arrays)\u001b[0m\n\u001b[1;32m    210\u001b[0m     \u001b[0;32mif\u001b[0m \u001b[0mlen\u001b[0m\u001b[0;34m(\u001b[0m\u001b[0muniques\u001b[0m\u001b[0;34m)\u001b[0m \u001b[0;34m>\u001b[0m \u001b[0;36m1\u001b[0m\u001b[0;34m:\u001b[0m\u001b[0;34m\u001b[0m\u001b[0;34m\u001b[0m\u001b[0m\n\u001b[1;32m    211\u001b[0m         raise ValueError(\"Found input variables with inconsistent numbers of\"\n\u001b[0;32m--> 212\u001b[0;31m                          \" samples: %r\" % [int(l) for l in lengths])\n\u001b[0m\u001b[1;32m    213\u001b[0m \u001b[0;34m\u001b[0m\u001b[0m\n\u001b[1;32m    214\u001b[0m \u001b[0;34m\u001b[0m\u001b[0m\n",
            "\u001b[0;31mValueError\u001b[0m: Found input variables with inconsistent numbers of samples: [839, 3054]"
          ]
        }
      ]
    },
    {
      "cell_type": "code",
      "metadata": {
        "colab": {
          "base_uri": "https://localhost:8080/"
        },
        "id": "x17iy4BoRMDz",
        "outputId": "1d54c4fb-dbaf-404d-f9a7-0882fd157bc8"
      },
      "source": [
        "probabilities = model.predict(test_it2)\n",
        "prediction = np.zeros_like(probabilities)\n",
        "prediction[np.arange(len(probabilities)), probabilities.argmax(1)] = 1\n",
        "prediction = np.argmax(prediction, axis = 1)\n",
        "real_classes = test_it2.classes\n",
        "\n",
        "classes = [\"chogath\",\"ezreal\",\"morgana\",\"poppy\",\"senna\"]\n",
        "print(classification_report(test_it2.classes, prediction, target_names= classes))\n",
        "print(confusion_matrix(real_classes, prediction))"
      ],
      "execution_count": 53,
      "outputs": [
        {
          "output_type": "stream",
          "text": [
            "              precision    recall  f1-score   support\n",
            "\n",
            "     chogath       0.15      0.14      0.14       127\n",
            "      ezreal       0.14      0.19      0.16       138\n",
            "     morgana       0.24      0.12      0.16       166\n",
            "       poppy       0.30      0.35      0.32       217\n",
            "       senna       0.21      0.20      0.21       191\n",
            "\n",
            "    accuracy                           0.21       839\n",
            "   macro avg       0.21      0.20      0.20       839\n",
            "weighted avg       0.22      0.21      0.21       839\n",
            "\n",
            "[[18 30 10 36 33]\n",
            " [25 26 10 43 34]\n",
            " [28 36 20 44 38]\n",
            " [25 54 17 77 44]\n",
            " [26 42 26 58 39]]\n"
          ],
          "name": "stdout"
        }
      ]
    }
  ]
}