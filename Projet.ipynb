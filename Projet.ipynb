{
  "nbformat": 4,
  "nbformat_minor": 0,
  "metadata": {
    "language_info": {
      "codemirror_mode": {
        "name": "ipython",
        "version": 3
      },
      "file_extension": ".py",
      "mimetype": "text/x-python",
      "name": "python",
      "nbconvert_exporter": "python",
      "pygments_lexer": "ipython3",
      "version": "3.8.5"
    },
    "orig_nbformat": 2,
    "kernelspec": {
      "name": "python3",
      "display_name": "Python 3",
      "language": "python"
    },
    "colab": {
      "name": "Projet.ipynb",
      "provenance": [],
      "collapsed_sections": []
    },
    "accelerator": "GPU"
  },
  "cells": [
    {
      "cell_type": "markdown",
      "metadata": {
        "id": "view-in-github"
      },
      "source": [
        "<a href=\"https://colab.research.google.com/github/eblio/dlolc/blob/main/Projet.ipynb\" target=\"_parent\"><img src=\"https://colab.research.google.com/assets/colab-badge.svg\" alt=\"Open In Colab\"/></a>"
      ]
    },
    {
      "cell_type": "markdown",
      "metadata": {
        "id": "4BeRdHOQKNJK"
      },
      "source": [
        "#Premier réseau de neurones \n",
        "\n",
        "## Premier réseau de neurones convolutifs qui permets de distinguer chacuns des dix champions sur une image. "
      ]
    },
    {
      "cell_type": "code",
      "metadata": {
        "id": "ShH_J4h_1N28"
      },
      "source": [
        "import os\n",
        "import shutil\n",
        "\n",
        "\n",
        "import matplotlib.pyplot as plt\n",
        "import numpy as np\n",
        "import PIL\n",
        "from PIL import Image\n",
        "import os, sys\n",
        "from scipy.io import loadmat\n",
        "\n",
        "from keras.models import Sequential\n",
        "from keras.layers import Dense, Dropout, Flatten, BatchNormalization, Activation\n",
        "from keras.layers.convolutional import Conv2D, MaxPooling2D\n",
        "from keras.constraints import maxnorm\n",
        "from keras.utils import np_utils"
      ],
      "execution_count": 1,
      "outputs": []
    },
    {
      "cell_type": "code",
      "metadata": {
        "colab": {
          "base_uri": "https://localhost:8080/"
        },
        "id": "8NRtIyoH1hJg",
        "outputId": "78b8cf04-1e63-4d42-8381-7714f26aaffc"
      },
      "source": [
        "!git clone https://github.com/eblio/dlolc.git\n",
        "!git config --global user.email \"alexauragan@gmail.com\"\n",
        "!git config --global user.name \"Alexandre D\""
      ],
      "execution_count": 2,
      "outputs": [
        {
          "output_type": "stream",
          "text": [
            "Cloning into 'dlolc'...\n",
            "remote: Enumerating objects: 22472, done.\u001b[K\n",
            "remote: Counting objects: 100% (6/6), done.\u001b[K\n",
            "remote: Compressing objects: 100% (4/4), done.\u001b[K\n",
            "remote: Total 22472 (delta 2), reused 6 (delta 2), pack-reused 22466\u001b[K\n",
            "Receiving objects: 100% (22472/22472), 4.17 GiB | 24.46 MiB/s, done.\n",
            "Resolving deltas: 100% (2035/2035), done.\n",
            "Checking out files: 100% (15627/15627), done.\n"
          ],
          "name": "stdout"
        }
      ]
    },
    {
      "cell_type": "code",
      "metadata": {
        "id": "NgWf8Uqt1N2_"
      },
      "source": [
        "path = \"./dlolc/data/\"\n",
        "labels = [\"Chogath\", \"Ezreal\", \"Lucian\", \"Malzahar\", \"Morgana\", \"Poppy\", \"Reksai\", \"Senna\", \"Syndra\", \"Teemo\"]\n",
        "num_classes = len(labels)\n",
        "taile_image = 128\n",
        "\n",
        "#x_train, y_train = load_data(path, labels, dataset='train', image_size=600)\n",
        "#print(x_train.shape, y_train.shape)\n",
        "\n",
        "#x_val, y_val = load_data(path, labels, dataset='validation', image_size=600)\n",
        "#print(x_val.shape, y_val.shape)\n",
        "\n",
        "#x_test, y_test = load_data(path, labels, dataset='test', image_size=600)\n",
        "#print(x_test.shape, y_test.shape)\n",
        "\n",
        "#class_num = y_test.shape[1]\n",
        "\n",
        "#plt.figure(figsize=(12, 12))\n",
        "#shuffle_indices = np.random.permutation(9)\n",
        "#for i in range(0, 9):\n",
        "#    plt.subplot(3, 3, i+1)\n",
        "#    image = x_train[shuffle_indices[i]]\n",
        "#    plt.title(labels[int(y_train[shuffle_indices[i]])])\n",
        "#    plt.imshow(image/255)\n",
        "\n",
        "#plt.tight_layout()\n",
        "#plt.show()"
      ],
      "execution_count": 3,
      "outputs": []
    },
    {
      "cell_type": "code",
      "metadata": {
        "colab": {
          "base_uri": "https://localhost:8080/"
        },
        "id": "0cIaUa4W1N3A",
        "outputId": "24676a67-5111-4c0e-9944-528bdb856d7b"
      },
      "source": [
        "from keras.preprocessing.image import ImageDataGenerator\n",
        "datagen = ImageDataGenerator()\n",
        "\n",
        "# load and iterate training dataset\n",
        "train_it = datagen.flow_from_directory('./dlolc/data/train/', class_mode='categorical', batch_size=64, target_size= (128,128))\n",
        "# load and iterate validation dataset\n",
        "val_it = datagen.flow_from_directory('./dlolc/data/validation/', class_mode='categorical', batch_size=64, target_size= (128,128))\n",
        "# load and iterate test dataset\n",
        "test_it = datagen.flow_from_directory('./dlolc/data/test/', class_mode='categorical', batch_size=64, target_size= (128,128))\n",
        "x, y = train_it.next()\n",
        "print(x.shape)"
      ],
      "execution_count": 4,
      "outputs": [
        {
          "output_type": "stream",
          "text": [
            "Found 6408 images belonging to 10 classes.\n",
            "Found 2140 images belonging to 10 classes.\n",
            "Found 2142 images belonging to 10 classes.\n",
            "(64, 128, 128, 3)\n"
          ],
          "name": "stdout"
        }
      ]
    },
    {
      "cell_type": "code",
      "metadata": {
        "colab": {
          "base_uri": "https://localhost:8080/"
        },
        "id": "U1prXfdi1N3A",
        "outputId": "ce6e7568-7790-4bd3-9113-83b6fcc07cc0"
      },
      "source": [
        "model = Sequential()\n",
        "\n",
        "model.add(Conv2D(32, (3, 3), input_shape=(taile_image,taile_image,3), padding='same'))\n",
        "model.add(Activation('relu'))\n",
        "model.add(BatchNormalization())\n",
        "\n",
        "model.add(Conv2D(64, (3, 3), padding='same'))\n",
        "model.add(Activation('relu'))\n",
        "model.add(MaxPooling2D(pool_size=(2, 2)))\n",
        "model.add(BatchNormalization())\n",
        "\n",
        "model.add(Conv2D(64, (3, 3), padding='same'))\n",
        "model.add(Activation('relu'))\n",
        "model.add(MaxPooling2D(pool_size=(2, 2)))\n",
        "model.add(BatchNormalization())\n",
        "\n",
        "model.add(Conv2D(128, (3, 3), padding='same'))\n",
        "model.add(Activation('relu'))\n",
        "model.add(MaxPooling2D(pool_size=(2, 2)))\n",
        "model.add(BatchNormalization())\n",
        "\n",
        "model.add(Conv2D(256, (3, 3), padding='same'))\n",
        "model.add(Activation('relu'))\n",
        "model.add(MaxPooling2D(pool_size=(2, 2)))\n",
        "model.add(BatchNormalization())\n",
        "\n",
        "model.add(Flatten())\n",
        "\n",
        "model.add(Dense(256, kernel_constraint=maxnorm(3)))\n",
        "model.add(Activation('relu'))\n",
        "model.add(BatchNormalization())\n",
        "model.add(Dense(128, kernel_constraint=maxnorm(3)))\n",
        "model.add(Activation('relu'))\n",
        "model.add(BatchNormalization())\n",
        "model.add(Dense(num_classes))\n",
        "model.add(Activation('softmax'))\n",
        "\n",
        "\n",
        "\n",
        "optimizer = 'adam'\n",
        "\n",
        "model.compile(loss='categorical_crossentropy', optimizer=optimizer, metrics = ['accuracy'])\n",
        "model.save(\"./dlolc/keras models/premier_model\")\n",
        "print(model.summary())"
      ],
      "execution_count": 5,
      "outputs": [
        {
          "output_type": "stream",
          "text": [
            "INFO:tensorflow:Assets written to: ./dlolc/keras models/premier_model/assets\n",
            "Model: \"sequential\"\n",
            "_________________________________________________________________\n",
            "Layer (type)                 Output Shape              Param #   \n",
            "=================================================================\n",
            "conv2d (Conv2D)              (None, 128, 128, 32)      896       \n",
            "_________________________________________________________________\n",
            "activation (Activation)      (None, 128, 128, 32)      0         \n",
            "_________________________________________________________________\n",
            "batch_normalization (BatchNo (None, 128, 128, 32)      128       \n",
            "_________________________________________________________________\n",
            "conv2d_1 (Conv2D)            (None, 128, 128, 64)      18496     \n",
            "_________________________________________________________________\n",
            "activation_1 (Activation)    (None, 128, 128, 64)      0         \n",
            "_________________________________________________________________\n",
            "max_pooling2d (MaxPooling2D) (None, 64, 64, 64)        0         \n",
            "_________________________________________________________________\n",
            "batch_normalization_1 (Batch (None, 64, 64, 64)        256       \n",
            "_________________________________________________________________\n",
            "conv2d_2 (Conv2D)            (None, 64, 64, 64)        36928     \n",
            "_________________________________________________________________\n",
            "activation_2 (Activation)    (None, 64, 64, 64)        0         \n",
            "_________________________________________________________________\n",
            "max_pooling2d_1 (MaxPooling2 (None, 32, 32, 64)        0         \n",
            "_________________________________________________________________\n",
            "batch_normalization_2 (Batch (None, 32, 32, 64)        256       \n",
            "_________________________________________________________________\n",
            "conv2d_3 (Conv2D)            (None, 32, 32, 128)       73856     \n",
            "_________________________________________________________________\n",
            "activation_3 (Activation)    (None, 32, 32, 128)       0         \n",
            "_________________________________________________________________\n",
            "max_pooling2d_2 (MaxPooling2 (None, 16, 16, 128)       0         \n",
            "_________________________________________________________________\n",
            "batch_normalization_3 (Batch (None, 16, 16, 128)       512       \n",
            "_________________________________________________________________\n",
            "conv2d_4 (Conv2D)            (None, 16, 16, 256)       295168    \n",
            "_________________________________________________________________\n",
            "activation_4 (Activation)    (None, 16, 16, 256)       0         \n",
            "_________________________________________________________________\n",
            "max_pooling2d_3 (MaxPooling2 (None, 8, 8, 256)         0         \n",
            "_________________________________________________________________\n",
            "batch_normalization_4 (Batch (None, 8, 8, 256)         1024      \n",
            "_________________________________________________________________\n",
            "flatten (Flatten)            (None, 16384)             0         \n",
            "_________________________________________________________________\n",
            "dense (Dense)                (None, 256)               4194560   \n",
            "_________________________________________________________________\n",
            "activation_5 (Activation)    (None, 256)               0         \n",
            "_________________________________________________________________\n",
            "batch_normalization_5 (Batch (None, 256)               1024      \n",
            "_________________________________________________________________\n",
            "dense_1 (Dense)              (None, 128)               32896     \n",
            "_________________________________________________________________\n",
            "activation_6 (Activation)    (None, 128)               0         \n",
            "_________________________________________________________________\n",
            "batch_normalization_6 (Batch (None, 128)               512       \n",
            "_________________________________________________________________\n",
            "dense_2 (Dense)              (None, 10)                1290      \n",
            "_________________________________________________________________\n",
            "activation_7 (Activation)    (None, 10)                0         \n",
            "=================================================================\n",
            "Total params: 4,657,802\n",
            "Trainable params: 4,655,946\n",
            "Non-trainable params: 1,856\n",
            "_________________________________________________________________\n",
            "None\n"
          ],
          "name": "stdout"
        }
      ]
    },
    {
      "cell_type": "code",
      "metadata": {
        "colab": {
          "base_uri": "https://localhost:8080/"
        },
        "id": "GoKUf__31N3A",
        "outputId": "71f6cd0e-1189-4b88-b911-11da9bc5a84f"
      },
      "source": [
        "step_size_train = train_it.n//train_it.batch_size\n",
        "step_size_valid = val_it.n//val_it.batch_size\n",
        "\n",
        "history  = model.fit(train_it,\n",
        "          epochs = 15,\n",
        "          verbose = 1,\n",
        "          batch_size = 64,\n",
        "          validation_data = val_it)\n",
        "model.save(\"./dlolc/keras models/premier_model_entrainé\")"
      ],
      "execution_count": 6,
      "outputs": [
        {
          "output_type": "stream",
          "text": [
            "Epoch 1/15\n",
            "101/101 [==============================] - 47s 118ms/step - loss: 0.9820 - accuracy: 0.6905 - val_loss: 0.9521 - val_accuracy: 0.7084\n",
            "Epoch 2/15\n",
            "101/101 [==============================] - 11s 104ms/step - loss: 0.1341 - accuracy: 0.9644 - val_loss: 0.1368 - val_accuracy: 0.9579\n",
            "Epoch 3/15\n",
            "101/101 [==============================] - 11s 105ms/step - loss: 0.0849 - accuracy: 0.9781 - val_loss: 0.6195 - val_accuracy: 0.8150\n",
            "Epoch 4/15\n",
            "101/101 [==============================] - 11s 106ms/step - loss: 0.0688 - accuracy: 0.9812 - val_loss: 0.0819 - val_accuracy: 0.9748\n",
            "Epoch 5/15\n",
            "101/101 [==============================] - 11s 108ms/step - loss: 0.0412 - accuracy: 0.9899 - val_loss: 0.1067 - val_accuracy: 0.9668\n",
            "Epoch 6/15\n",
            "101/101 [==============================] - 11s 109ms/step - loss: 0.0268 - accuracy: 0.9921 - val_loss: 0.0624 - val_accuracy: 0.9827\n",
            "Epoch 7/15\n",
            "101/101 [==============================] - 11s 109ms/step - loss: 0.0106 - accuracy: 0.9970 - val_loss: 0.1098 - val_accuracy: 0.9696\n",
            "Epoch 8/15\n",
            "101/101 [==============================] - 11s 107ms/step - loss: 0.0954 - accuracy: 0.9715 - val_loss: 0.5107 - val_accuracy: 0.8780\n",
            "Epoch 9/15\n",
            "101/101 [==============================] - 11s 106ms/step - loss: 0.0525 - accuracy: 0.9821 - val_loss: 0.3792 - val_accuracy: 0.9178\n",
            "Epoch 10/15\n",
            "101/101 [==============================] - 11s 106ms/step - loss: 0.0353 - accuracy: 0.9900 - val_loss: 0.0721 - val_accuracy: 0.9776\n",
            "Epoch 11/15\n",
            "101/101 [==============================] - 11s 107ms/step - loss: 0.0701 - accuracy: 0.9757 - val_loss: 0.1555 - val_accuracy: 0.9542\n",
            "Epoch 12/15\n",
            "101/101 [==============================] - 11s 106ms/step - loss: 0.0316 - accuracy: 0.9915 - val_loss: 0.0745 - val_accuracy: 0.9766\n",
            "Epoch 13/15\n",
            "101/101 [==============================] - 11s 106ms/step - loss: 0.0161 - accuracy: 0.9965 - val_loss: 0.1479 - val_accuracy: 0.9584\n",
            "Epoch 14/15\n",
            "101/101 [==============================] - 11s 107ms/step - loss: 0.0220 - accuracy: 0.9930 - val_loss: 0.0842 - val_accuracy: 0.9771\n",
            "Epoch 15/15\n",
            "101/101 [==============================] - 11s 107ms/step - loss: 0.0140 - accuracy: 0.9966 - val_loss: 0.1614 - val_accuracy: 0.9528\n",
            "INFO:tensorflow:Assets written to: ./dlolc/keras models/premier_model_entrainé/assets\n"
          ],
          "name": "stdout"
        }
      ]
    },
    {
      "cell_type": "code",
      "metadata": {
        "colab": {
          "base_uri": "https://localhost:8080/"
        },
        "id": "r0Y-K7za1N3C",
        "outputId": "c8b792a9-d984-461a-b361-5d4795691ac5"
      },
      "source": [
        "loss,acc = model.evaluate(test_it)\n",
        "print(\"Accuracy : \"+ str(acc*100) +\"%\")"
      ],
      "execution_count": 7,
      "outputs": [
        {
          "output_type": "stream",
          "text": [
            "34/34 [==============================] - 2s 49ms/step - loss: 0.1643 - accuracy: 0.9533\n",
            "Accuracy : 95.33146619796753%\n"
          ],
          "name": "stdout"
        }
      ]
    },
    {
      "cell_type": "code",
      "metadata": {
        "id": "HZSQzQ4OflS-"
      },
      "source": [
        ""
      ],
      "execution_count": 7,
      "outputs": []
    },
    {
      "cell_type": "code",
      "metadata": {
        "colab": {
          "base_uri": "https://localhost:8080/",
          "height": 590
        },
        "id": "KCi5_zp5eEaS",
        "outputId": "9edd5a43-65f8-4c30-e938-a0f3fdc968e0"
      },
      "source": [
        "import matplotlib.pyplot as plt\n",
        "\n",
        "print(history.history.keys())\n",
        "# summarize history for accuracy\n",
        "plt.plot(history.history['accuracy'])\n",
        "plt.plot(history.history['val_accuracy'])\n",
        "plt.title('model accuracy')\n",
        "plt.ylabel('accuracy')\n",
        "plt.xlabel('epoch')\n",
        "plt.legend(['train', 'test'], loc='upper left')\n",
        "plt.show()\n",
        "# summarize history for loss\n",
        "plt.plot(history.history['loss'])\n",
        "plt.plot(history.history['val_loss'])\n",
        "plt.title('model loss')\n",
        "plt.ylabel('loss')\n",
        "plt.xlabel('epoch')\n",
        "plt.legend(['train', 'test'], loc='upper left')\n",
        "plt.show()"
      ],
      "execution_count": 8,
      "outputs": [
        {
          "output_type": "stream",
          "text": [
            "dict_keys(['loss', 'accuracy', 'val_loss', 'val_accuracy'])\n"
          ],
          "name": "stdout"
        },
        {
          "output_type": "display_data",
          "data": {
            "image/png": "[encoded data removed]",
            "text/plain": [
              "<Figure size 432x288 with 1 Axes>"
            ]
          },
          "metadata": {
            "tags": [],
            "needs_background": "light"
          }
        },
        {
          "output_type": "display_data",
          "data": {
            "image/png": "[encoded data removed]",
            "text/plain": [
              "<Figure size 432x288 with 1 Axes>"
            ]
          },
          "metadata": {
            "tags": [],
            "needs_background": "light"
          }
        }
      ]
    },
    {
      "cell_type": "code",
      "metadata": {
        "colab": {
          "base_uri": "https://localhost:8080/",
          "height": 238
        },
        "id": "WuCTl2jfp1TT",
        "outputId": "74b39cfe-673b-4642-9fc4-5ab047828a01"
      },
      "source": [
        "!zip -r /content/file.zip /content/dlolc/keras\\ models\n",
        "from google.colab import files\n",
        "files.download(\"/content/file.zip\")"
      ],
      "execution_count": 9,
      "outputs": [
        {
          "output_type": "stream",
          "text": [
            "  adding: content/dlolc/keras models/ (stored 0%)\n",
            "  adding: content/dlolc/keras models/premier_model/ (stored 0%)\n",
            "  adding: content/dlolc/keras models/premier_model/variables/ (stored 0%)\n",
            "  adding: content/dlolc/keras models/premier_model/variables/variables.data-00000-of-00001 (deflated 9%)\n",
            "  adding: content/dlolc/keras models/premier_model/variables/variables.index (deflated 73%)\n",
            "  adding: content/dlolc/keras models/premier_model/saved_model.pb (deflated 90%)\n",
            "  adding: content/dlolc/keras models/premier_model/assets/ (stored 0%)\n",
            "  adding: content/dlolc/keras models/premier_model_entrainé/ (stored 0%)\n",
            "  adding: content/dlolc/keras models/premier_model_entrainé/variables/ (stored 0%)\n",
            "  adding: content/dlolc/keras models/premier_model_entrainé/variables/variables.data-00000-of-00001 (deflated 8%)\n",
            "  adding: content/dlolc/keras models/premier_model_entrainé/variables/variables.index (deflated 74%)\n",
            "  adding: content/dlolc/keras models/premier_model_entrainé/saved_model.pb (deflated 91%)\n",
            "  adding: content/dlolc/keras models/premier_model_entrainé/assets/ (stored 0%)\n"
          ],
          "name": "stdout"
        },
        {
          "output_type": "display_data",
          "data": {
            "application/javascript": [
              "\n",
              "    async function download(id, filename, size) {\n",
              "      if (!google.colab.kernel.accessAllowed) {\n",
              "        return;\n",
              "      }\n",
              "      const div = document.createElement('div');\n",
              "      const label = document.createElement('label');\n",
              "      label.textContent = `Downloading \"${filename}\": `;\n",
              "      div.appendChild(label);\n",
              "      const progress = document.createElement('progress');\n",
              "      progress.max = size;\n",
              "      div.appendChild(progress);\n",
              "      document.body.appendChild(div);\n",
              "\n",
              "      const buffers = [];\n",
              "      let downloaded = 0;\n",
              "\n",
              "      const channel = await google.colab.kernel.comms.open(id);\n",
              "      // Send a message to notify the kernel that we're ready.\n",
              "      channel.send({})\n",
              "\n",
              "      for await (const message of channel.messages) {\n",
              "        // Send a message to notify the kernel that we're ready.\n",
              "        channel.send({})\n",
              "        if (message.buffers) {\n",
              "          for (const buffer of message.buffers) {\n",
              "            buffers.push(buffer);\n",
              "            downloaded += buffer.byteLength;\n",
              "            progress.value = downloaded;\n",
              "          }\n",
              "        }\n",
              "      }\n",
              "      const blob = new Blob(buffers, {type: 'application/binary'});\n",
              "      const a = document.createElement('a');\n",
              "      a.href = window.URL.createObjectURL(blob);\n",
              "      a.download = filename;\n",
              "      div.appendChild(a);\n",
              "      a.click();\n",
              "      div.remove();\n",
              "    }\n",
              "  "
            ],
            "text/plain": [
              "<IPython.core.display.Javascript object>"
            ]
          },
          "metadata": {
            "tags": []
          }
        },
        {
          "output_type": "display_data",
          "data": {
            "application/javascript": [
              "download(\"download_72d32505-0028-4d8d-84a5-fac1e2a52f14\", \"file.zip\", 68429833)"
            ],
            "text/plain": [
              "<IPython.core.display.Javascript object>"
            ]
          },
          "metadata": {
            "tags": []
          }
        }
      ]
    },
    {
      "cell_type": "markdown",
      "metadata": {
        "id": "s73FZqI5W-ru"
      },
      "source": [
        "Donc là on a une grosse accuracy, c'est normal parce que les vidéos sont continues, on essaie avec un second set de données\n"
      ]
    },
    {
      "cell_type": "code",
      "metadata": {
        "colab": {
          "base_uri": "https://localhost:8080/"
        },
        "id": "WSy_drZtXNnu",
        "outputId": "640a0d8f-9dd1-456c-ddd4-beb562bef1b4"
      },
      "source": [
        "# load and iterate training dataset\n",
        "train_it2 = datagen.flow_from_directory('./dlolc/data/train2/', class_mode='categorical', batch_size=64, target_size= (128,128))\n",
        "# load and iterate validation dataset\n",
        "val_it2 = datagen.flow_from_directory('./dlolc/data/validation2/', class_mode='categorical', batch_size=64, target_size= (128,128))\n",
        "# load and iterate test dataset\n",
        "test_it2 = datagen.flow_from_directory('./dlolc/data/test2/', class_mode='categorical', batch_size=64, target_size= (128,128))\n",
        "\n",
        "model = Sequential()\n",
        "\n",
        "model.add(Conv2D(32, (3, 3), input_shape=(taile_image,taile_image,3), padding='same'))\n",
        "model.add(Activation('relu'))\n",
        "model.add(BatchNormalization())\n",
        "\n",
        "model.add(Conv2D(64, (3, 3), padding='same'))\n",
        "model.add(Activation('relu'))\n",
        "model.add(MaxPooling2D(pool_size=(2, 2)))\n",
        "model.add(BatchNormalization())\n",
        "\n",
        "model.add(Conv2D(64, (3, 3), padding='same'))\n",
        "model.add(Activation('relu'))\n",
        "model.add(MaxPooling2D(pool_size=(2, 2)))\n",
        "model.add(BatchNormalization())\n",
        "\n",
        "model.add(Conv2D(128, (3, 3), padding='same'))\n",
        "model.add(Activation('relu'))\n",
        "model.add(MaxPooling2D(pool_size=(2, 2)))\n",
        "model.add(BatchNormalization())\n",
        "\n",
        "model.add(Conv2D(256, (3, 3), padding='same'))\n",
        "model.add(Activation('relu'))\n",
        "model.add(MaxPooling2D(pool_size=(2, 2)))\n",
        "model.add(BatchNormalization())\n",
        "\n",
        "model.add(Flatten())\n",
        "\n",
        "model.add(Dense(256, kernel_constraint=maxnorm(3)))\n",
        "model.add(Activation('relu'))\n",
        "model.add(BatchNormalization())\n",
        "model.add(Dense(128, kernel_constraint=maxnorm(3)))\n",
        "model.add(Activation('relu'))\n",
        "model.add(BatchNormalization())\n",
        "model.add(Dense(num_classes/2))\n",
        "model.add(Activation('softmax'))\n",
        "\n",
        "\n",
        "\n",
        "optimizer = 'adam'\n",
        "\n",
        "model.compile(loss='categorical_crossentropy', optimizer=optimizer, metrics = ['accuracy'])\n",
        "model.save(\"./dlolc/keras models/premier_model_taille_5\")\n",
        "print(model.summary())\n",
        "\n",
        "step_size_train = train_it2.n//train_it2.batch_size\n",
        "step_size_valid = val_it2.n//val_it2.batch_size\n",
        "\n",
        "history  = model.fit(train_it2,\n",
        "          epochs = 15,\n",
        "          verbose = 1,\n",
        "          batch_size = 64,\n",
        "          validation_data = val_it2)\n",
        "model.save(\"./dlolc/keras models/premier_model_entrainé_sur_set_2\")\n",
        "\n"
      ],
      "execution_count": 10,
      "outputs": [
        {
          "output_type": "stream",
          "text": [
            "Found 3054 images belonging to 5 classes.\n",
            "Found 1020 images belonging to 5 classes.\n",
            "Found 839 images belonging to 5 classes.\n",
            "INFO:tensorflow:Assets written to: ./dlolc/keras models/premier_model/assets\n",
            "Model: \"sequential_1\"\n",
            "_________________________________________________________________\n",
            "Layer (type)                 Output Shape              Param #   \n",
            "=================================================================\n",
            "conv2d_5 (Conv2D)            (None, 128, 128, 32)      896       \n",
            "_________________________________________________________________\n",
            "activation_8 (Activation)    (None, 128, 128, 32)      0         \n",
            "_________________________________________________________________\n",
            "batch_normalization_7 (Batch (None, 128, 128, 32)      128       \n",
            "_________________________________________________________________\n",
            "conv2d_6 (Conv2D)            (None, 128, 128, 64)      18496     \n",
            "_________________________________________________________________\n",
            "activation_9 (Activation)    (None, 128, 128, 64)      0         \n",
            "_________________________________________________________________\n",
            "max_pooling2d_4 (MaxPooling2 (None, 64, 64, 64)        0         \n",
            "_________________________________________________________________\n",
            "batch_normalization_8 (Batch (None, 64, 64, 64)        256       \n",
            "_________________________________________________________________\n",
            "conv2d_7 (Conv2D)            (None, 64, 64, 64)        36928     \n",
            "_________________________________________________________________\n",
            "activation_10 (Activation)   (None, 64, 64, 64)        0         \n",
            "_________________________________________________________________\n",
            "max_pooling2d_5 (MaxPooling2 (None, 32, 32, 64)        0         \n",
            "_________________________________________________________________\n",
            "batch_normalization_9 (Batch (None, 32, 32, 64)        256       \n",
            "_________________________________________________________________\n",
            "conv2d_8 (Conv2D)            (None, 32, 32, 128)       73856     \n",
            "_________________________________________________________________\n",
            "activation_11 (Activation)   (None, 32, 32, 128)       0         \n",
            "_________________________________________________________________\n",
            "max_pooling2d_6 (MaxPooling2 (None, 16, 16, 128)       0         \n",
            "_________________________________________________________________\n",
            "batch_normalization_10 (Batc (None, 16, 16, 128)       512       \n",
            "_________________________________________________________________\n",
            "conv2d_9 (Conv2D)            (None, 16, 16, 256)       295168    \n",
            "_________________________________________________________________\n",
            "activation_12 (Activation)   (None, 16, 16, 256)       0         \n",
            "_________________________________________________________________\n",
            "max_pooling2d_7 (MaxPooling2 (None, 8, 8, 256)         0         \n",
            "_________________________________________________________________\n",
            "batch_normalization_11 (Batc (None, 8, 8, 256)         1024      \n",
            "_________________________________________________________________\n",
            "flatten_1 (Flatten)          (None, 16384)             0         \n",
            "_________________________________________________________________\n",
            "dense_3 (Dense)              (None, 256)               4194560   \n",
            "_________________________________________________________________\n",
            "activation_13 (Activation)   (None, 256)               0         \n",
            "_________________________________________________________________\n",
            "batch_normalization_12 (Batc (None, 256)               1024      \n",
            "_________________________________________________________________\n",
            "dense_4 (Dense)              (None, 128)               32896     \n",
            "_________________________________________________________________\n",
            "activation_14 (Activation)   (None, 128)               0         \n",
            "_________________________________________________________________\n",
            "batch_normalization_13 (Batc (None, 128)               512       \n",
            "_________________________________________________________________\n",
            "dense_5 (Dense)              (None, 5)                 645       \n",
            "_________________________________________________________________\n",
            "activation_15 (Activation)   (None, 5)                 0         \n",
            "=================================================================\n",
            "Total params: 4,657,157\n",
            "Trainable params: 4,655,301\n",
            "Non-trainable params: 1,856\n",
            "_________________________________________________________________\n",
            "None\n",
            "Epoch 1/15\n",
            "48/48 [==============================] - 9s 171ms/step - loss: 0.8027 - accuracy: 0.7388 - val_loss: 2.6765 - val_accuracy: 0.4951\n",
            "Epoch 2/15\n",
            "48/48 [==============================] - 5s 109ms/step - loss: 0.0885 - accuracy: 0.9735 - val_loss: 0.6293 - val_accuracy: 0.7892\n",
            "Epoch 3/15\n",
            "48/48 [==============================] - 5s 109ms/step - loss: 0.0400 - accuracy: 0.9876 - val_loss: 0.2442 - val_accuracy: 0.9108\n",
            "Epoch 4/15\n",
            "48/48 [==============================] - 5s 110ms/step - loss: 0.0406 - accuracy: 0.9888 - val_loss: 0.2141 - val_accuracy: 0.9284\n",
            "Epoch 5/15\n",
            "48/48 [==============================] - 5s 110ms/step - loss: 0.0268 - accuracy: 0.9919 - val_loss: 0.0947 - val_accuracy: 0.9706\n",
            "Epoch 6/15\n",
            "48/48 [==============================] - 5s 110ms/step - loss: 0.0122 - accuracy: 0.9975 - val_loss: 0.0624 - val_accuracy: 0.9804\n",
            "Epoch 7/15\n",
            "48/48 [==============================] - 5s 109ms/step - loss: 0.0086 - accuracy: 0.9985 - val_loss: 0.0720 - val_accuracy: 0.9824\n",
            "Epoch 8/15\n",
            "48/48 [==============================] - 5s 110ms/step - loss: 0.0037 - accuracy: 0.9995 - val_loss: 0.0415 - val_accuracy: 0.9882\n",
            "Epoch 9/15\n",
            "48/48 [==============================] - 5s 109ms/step - loss: 0.0020 - accuracy: 1.0000 - val_loss: 0.0372 - val_accuracy: 0.9853\n",
            "Epoch 10/15\n",
            "48/48 [==============================] - 5s 109ms/step - loss: 9.4560e-04 - accuracy: 1.0000 - val_loss: 0.0320 - val_accuracy: 0.9892\n",
            "Epoch 11/15\n",
            "48/48 [==============================] - 5s 109ms/step - loss: 0.0026 - accuracy: 0.9996 - val_loss: 0.0900 - val_accuracy: 0.9716\n",
            "Epoch 12/15\n",
            "48/48 [==============================] - 5s 109ms/step - loss: 0.0059 - accuracy: 0.9981 - val_loss: 0.0747 - val_accuracy: 0.9794\n",
            "Epoch 13/15\n",
            "48/48 [==============================] - 5s 109ms/step - loss: 0.0102 - accuracy: 0.9954 - val_loss: 0.2584 - val_accuracy: 0.9314\n",
            "Epoch 14/15\n",
            "48/48 [==============================] - 5s 108ms/step - loss: 0.0758 - accuracy: 0.9747 - val_loss: 0.9709 - val_accuracy: 0.8059\n",
            "Epoch 15/15\n",
            "48/48 [==============================] - 5s 109ms/step - loss: 0.0583 - accuracy: 0.9865 - val_loss: 0.2941 - val_accuracy: 0.9324\n",
            "INFO:tensorflow:Assets written to: ./dlolc/keras models/premier_model_entrainé_sur_set_2/assets\n"
          ],
          "name": "stdout"
        }
      ]
    },
    {
      "cell_type": "code",
      "metadata": {
        "id": "24TicId48cgl"
      },
      "source": [
        ""
      ],
      "execution_count": null,
      "outputs": []
    },
    {
      "cell_type": "code",
      "metadata": {
        "id": "D3a6VhcIZOWm",
        "colab": {
          "base_uri": "https://localhost:8080/"
        },
        "outputId": "95373454-4db5-4dd6-bc35-eb2e352e66d3"
      },
      "source": [
        "\n",
        "loss,acc = model.evaluate(test_it2)\n",
        "print(\"Accuracy : \"+ str(acc*100) +\"%\")"
      ],
      "execution_count": 11,
      "outputs": [
        {
          "output_type": "stream",
          "text": [
            "14/14 [==============================] - 1s 87ms/step - loss: 1.5582 - accuracy: 0.7306\n",
            "Accuracy : 73.06317090988159%\n"
          ],
          "name": "stdout"
        }
      ]
    },
    {
      "cell_type": "markdown",
      "metadata": {
        "id": "TdW2sH9m8BVw"
      },
      "source": [
        "là d'un coup on drop en accuracy, c'est normal parce qu'on a un meilleur ensemble de photos de tests. On pourrait retenter avec des photos plus compliquées encore mais j'ai pas le time de tout filmer huit fois.\n",
        "ON A SURAPPRENTIS DE OUF"
      ]
    },
    {
      "cell_type": "code",
      "metadata": {
        "id": "hfZeMpwCXE-i",
        "colab": {
          "base_uri": "https://localhost:8080/"
        },
        "outputId": "bdc95a6c-a7e8-410c-a70c-22b86182320c"
      },
      "source": [
        "model = Sequential()\n",
        "\n",
        "model.add(Conv2D(32, (3, 3), input_shape=(taile_image,taile_image,3), padding='same'))\n",
        "model.add(Activation('relu'))\n",
        "model.add(Dropout(0.2))\n",
        "model.add(BatchNormalization())\n",
        "\n",
        "model.add(Conv2D(64, (3, 3), padding='same'))\n",
        "model.add(Activation('relu'))\n",
        "model.add(MaxPooling2D(pool_size=(2, 2)))\n",
        "model.add(Dropout(0.2))\n",
        "model.add(BatchNormalization())\n",
        "\n",
        "model.add(Conv2D(64, (3, 3), padding='same'))\n",
        "model.add(Activation('relu'))\n",
        "model.add(MaxPooling2D(pool_size=(2, 2)))\n",
        "model.add(Dropout(0.2))\n",
        "model.add(BatchNormalization())\n",
        "\n",
        "model.add(Conv2D(128, (3, 3), padding='same'))\n",
        "model.add(Activation('relu'))\n",
        "model.add(MaxPooling2D(pool_size=(2, 2)))\n",
        "model.add(Dropout(0.2))\n",
        "model.add(BatchNormalization())\n",
        "\n",
        "model.add(Conv2D(256, (3, 3), padding='same'))\n",
        "model.add(Activation('relu'))\n",
        "model.add(MaxPooling2D(pool_size=(2, 2)))\n",
        "model.add(Dropout(0.2))\n",
        "model.add(BatchNormalization())\n",
        "\n",
        "model.add(Flatten())\n",
        "model.add(Dropout(0.2))\n",
        "\n",
        "model.add(Dense(256, kernel_constraint=maxnorm(3)))\n",
        "model.add(Activation('relu'))\n",
        "model.add(Dropout(0.2))\n",
        "model.add(BatchNormalization())\n",
        "model.add(Dense(128, kernel_constraint=maxnorm(3)))\n",
        "model.add(Activation('relu'))\n",
        "model.add(Dropout(0.2))\n",
        "model.add(BatchNormalization())\n",
        "model.add(Dense(5))\n",
        "model.add(Activation('softmax'))\n",
        "\n",
        "\n",
        "\n",
        "optimizer = 'adam'\n",
        "\n",
        "model.compile(loss='categorical_crossentropy', optimizer=optimizer, metrics = ['accuracy'])\n",
        "model.save(\"./dlolc/keras models/deuxème_model\")\n",
        "print(model.summary())\n",
        "\n",
        "step_size_train = train_it2.n//train_it2.batch_size\n",
        "step_size_valid = val_it2.n//val_it2.batch_size\n",
        "\n",
        "history  = model.fit(train_it2,\n",
        "          epochs = 15,\n",
        "          verbose = 1,\n",
        "          batch_size = 64,\n",
        "          validation_data = val_it2)\n",
        "model.save(\"./dlolc/keras models/deuxème_model_entrainé_sur_set_2\")\n",
        "\n",
        "\n",
        "loss,acc = model.evaluate(test_it2)\n",
        "print(\"Accuracy : \"+ str(acc*100) +\"%\")"
      ],
      "execution_count": 13,
      "outputs": [
        {
          "output_type": "stream",
          "text": [
            "INFO:tensorflow:Assets written to: ./dlolc/keras models/deuxème_model/assets\n",
            "Model: \"sequential_3\"\n",
            "_________________________________________________________________\n",
            "Layer (type)                 Output Shape              Param #   \n",
            "=================================================================\n",
            "conv2d_15 (Conv2D)           (None, 128, 128, 32)      896       \n",
            "_________________________________________________________________\n",
            "activation_24 (Activation)   (None, 128, 128, 32)      0         \n",
            "_________________________________________________________________\n",
            "dropout_8 (Dropout)          (None, 128, 128, 32)      0         \n",
            "_________________________________________________________________\n",
            "batch_normalization_21 (Batc (None, 128, 128, 32)      128       \n",
            "_________________________________________________________________\n",
            "conv2d_16 (Conv2D)           (None, 128, 128, 64)      18496     \n",
            "_________________________________________________________________\n",
            "activation_25 (Activation)   (None, 128, 128, 64)      0         \n",
            "_________________________________________________________________\n",
            "max_pooling2d_12 (MaxPooling (None, 64, 64, 64)        0         \n",
            "_________________________________________________________________\n",
            "dropout_9 (Dropout)          (None, 64, 64, 64)        0         \n",
            "_________________________________________________________________\n",
            "batch_normalization_22 (Batc (None, 64, 64, 64)        256       \n",
            "_________________________________________________________________\n",
            "conv2d_17 (Conv2D)           (None, 64, 64, 64)        36928     \n",
            "_________________________________________________________________\n",
            "activation_26 (Activation)   (None, 64, 64, 64)        0         \n",
            "_________________________________________________________________\n",
            "max_pooling2d_13 (MaxPooling (None, 32, 32, 64)        0         \n",
            "_________________________________________________________________\n",
            "dropout_10 (Dropout)         (None, 32, 32, 64)        0         \n",
            "_________________________________________________________________\n",
            "batch_normalization_23 (Batc (None, 32, 32, 64)        256       \n",
            "_________________________________________________________________\n",
            "conv2d_18 (Conv2D)           (None, 32, 32, 128)       73856     \n",
            "_________________________________________________________________\n",
            "activation_27 (Activation)   (None, 32, 32, 128)       0         \n",
            "_________________________________________________________________\n",
            "max_pooling2d_14 (MaxPooling (None, 16, 16, 128)       0         \n",
            "_________________________________________________________________\n",
            "dropout_11 (Dropout)         (None, 16, 16, 128)       0         \n",
            "_________________________________________________________________\n",
            "batch_normalization_24 (Batc (None, 16, 16, 128)       512       \n",
            "_________________________________________________________________\n",
            "conv2d_19 (Conv2D)           (None, 16, 16, 256)       295168    \n",
            "_________________________________________________________________\n",
            "activation_28 (Activation)   (None, 16, 16, 256)       0         \n",
            "_________________________________________________________________\n",
            "max_pooling2d_15 (MaxPooling (None, 8, 8, 256)         0         \n",
            "_________________________________________________________________\n",
            "dropout_12 (Dropout)         (None, 8, 8, 256)         0         \n",
            "_________________________________________________________________\n",
            "batch_normalization_25 (Batc (None, 8, 8, 256)         1024      \n",
            "_________________________________________________________________\n",
            "flatten_3 (Flatten)          (None, 16384)             0         \n",
            "_________________________________________________________________\n",
            "dropout_13 (Dropout)         (None, 16384)             0         \n",
            "_________________________________________________________________\n",
            "dense_9 (Dense)              (None, 256)               4194560   \n",
            "_________________________________________________________________\n",
            "activation_29 (Activation)   (None, 256)               0         \n",
            "_________________________________________________________________\n",
            "dropout_14 (Dropout)         (None, 256)               0         \n",
            "_________________________________________________________________\n",
            "batch_normalization_26 (Batc (None, 256)               1024      \n",
            "_________________________________________________________________\n",
            "dense_10 (Dense)             (None, 128)               32896     \n",
            "_________________________________________________________________\n",
            "activation_30 (Activation)   (None, 128)               0         \n",
            "_________________________________________________________________\n",
            "dropout_15 (Dropout)         (None, 128)               0         \n",
            "_________________________________________________________________\n",
            "batch_normalization_27 (Batc (None, 128)               512       \n",
            "_________________________________________________________________\n",
            "dense_11 (Dense)             (None, 5)                 645       \n",
            "_________________________________________________________________\n",
            "activation_31 (Activation)   (None, 5)                 0         \n",
            "=================================================================\n",
            "Total params: 4,657,157\n",
            "Trainable params: 4,655,301\n",
            "Non-trainable params: 1,856\n",
            "_________________________________________________________________\n",
            "None\n",
            "Epoch 1/15\n",
            "48/48 [==============================] - 8s 130ms/step - loss: 1.2383 - accuracy: 0.5616 - val_loss: 1.1911 - val_accuracy: 0.6490\n",
            "Epoch 2/15\n",
            "48/48 [==============================] - 6s 127ms/step - loss: 0.2832 - accuracy: 0.9054 - val_loss: 0.2968 - val_accuracy: 0.8882\n",
            "Epoch 3/15\n",
            "48/48 [==============================] - 6s 127ms/step - loss: 0.1479 - accuracy: 0.9561 - val_loss: 0.1571 - val_accuracy: 0.9451\n",
            "Epoch 4/15\n",
            "48/48 [==============================] - 6s 127ms/step - loss: 0.1030 - accuracy: 0.9670 - val_loss: 0.1743 - val_accuracy: 0.9343\n",
            "Epoch 5/15\n",
            "48/48 [==============================] - 6s 125ms/step - loss: 0.0795 - accuracy: 0.9779 - val_loss: 0.2058 - val_accuracy: 0.9422\n",
            "Epoch 6/15\n",
            "48/48 [==============================] - 6s 124ms/step - loss: 0.0561 - accuracy: 0.9841 - val_loss: 0.1527 - val_accuracy: 0.9549\n",
            "Epoch 7/15\n",
            "48/48 [==============================] - 6s 123ms/step - loss: 0.0460 - accuracy: 0.9854 - val_loss: 0.1036 - val_accuracy: 0.9657\n",
            "Epoch 8/15\n",
            "48/48 [==============================] - 6s 124ms/step - loss: 0.0356 - accuracy: 0.9900 - val_loss: 0.1471 - val_accuracy: 0.9598\n",
            "Epoch 9/15\n",
            "48/48 [==============================] - 6s 122ms/step - loss: 0.0497 - accuracy: 0.9847 - val_loss: 0.3330 - val_accuracy: 0.8902\n",
            "Epoch 10/15\n",
            "48/48 [==============================] - 6s 122ms/step - loss: 0.0310 - accuracy: 0.9890 - val_loss: 0.0901 - val_accuracy: 0.9794\n",
            "Epoch 11/15\n",
            "48/48 [==============================] - 6s 124ms/step - loss: 0.0302 - accuracy: 0.9904 - val_loss: 0.2421 - val_accuracy: 0.9255\n",
            "Epoch 12/15\n",
            "48/48 [==============================] - 6s 122ms/step - loss: 0.0311 - accuracy: 0.9906 - val_loss: 0.1043 - val_accuracy: 0.9725\n",
            "Epoch 13/15\n",
            "48/48 [==============================] - 6s 122ms/step - loss: 0.0315 - accuracy: 0.9900 - val_loss: 0.1448 - val_accuracy: 0.9520\n",
            "Epoch 14/15\n",
            "48/48 [==============================] - 6s 124ms/step - loss: 0.0393 - accuracy: 0.9865 - val_loss: 0.1684 - val_accuracy: 0.9549\n",
            "Epoch 15/15\n",
            "48/48 [==============================] - 6s 123ms/step - loss: 0.0253 - accuracy: 0.9931 - val_loss: 0.1580 - val_accuracy: 0.9529\n",
            "INFO:tensorflow:Assets written to: ./dlolc/keras models/deuxème_model_entrainé_sur_set_2/assets\n",
            "14/14 [==============================] - 1s 61ms/step - loss: 1.1574 - accuracy: 0.7342\n",
            "Accuracy : 73.42073917388916%\n"
          ],
          "name": "stdout"
        }
      ]
    },
    {
      "cell_type": "markdown",
      "metadata": {
        "id": "cu27w4ie9QMl"
      },
      "source": [
        "le droupout sert à éviter le surapprentissage mais ça n'a pas servit à grand chose ici"
      ]
    }
  ]
}